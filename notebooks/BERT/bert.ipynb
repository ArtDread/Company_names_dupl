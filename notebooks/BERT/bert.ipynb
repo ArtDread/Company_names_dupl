{
  "cells": [
    {
      "cell_type": "markdown",
      "metadata": {
        "id": "Df4afMTUFBF7"
      },
      "source": [
        "# Customization and import"
      ]
    },
    {
      "cell_type": "code",
      "execution_count": 4,
      "metadata": {
        "colab": {
          "base_uri": "https://localhost:8080/",
          "height": 17
        },
        "id": "mlS7J17jfyu4",
        "outputId": "2a4d6c2d-5933-40b7-cf67-19d0d386bfde"
      },
      "outputs": [
        {
          "output_type": "display_data",
          "data": {
            "text/html": [
              "        <script type=\"text/javascript\">\n",
              "        window.PlotlyConfig = {MathJaxConfig: 'local'};\n",
              "        if (window.MathJax) {MathJax.Hub.Config({SVG: {font: \"STIX-Web\"}});}\n",
              "        if (typeof require !== 'undefined') {\n",
              "        require.undef(\"plotly\");\n",
              "        requirejs.config({\n",
              "            paths: {\n",
              "                'plotly': ['https://cdn.plot.ly/plotly-2.8.3.min']\n",
              "            }\n",
              "        });\n",
              "        require(['plotly'], function(Plotly) {\n",
              "            window._Plotly = Plotly;\n",
              "        });\n",
              "        }\n",
              "        </script>\n",
              "        "
            ]
          },
          "metadata": {}
        }
      ],
      "source": [
        "import gc\n",
        "import logging\n",
        "import os\n",
        "from subprocess import check_output\n",
        "\n",
        "import matplotlib.pyplot as plt\n",
        "import numpy as np\n",
        "import pandas as pd\n",
        "import plotly.graph_objs as go\n",
        "import plotly.offline as py\n",
        "import plotly.tools as tls\n",
        "import seaborn as sns\n",
        "import torch\n",
        "import torch.nn as nn\n",
        "import transformers\n",
        "from sklearn.metrics import (classification_report, precision_recall_curve,\n",
        "                             roc_auc_score, roc_curve)\n",
        "from sklearn.model_selection import train_test_split\n",
        "from tqdm import tqdm\n",
        "from transformers import (AdamW, BertModel, BertTokenizer,\n",
        "                          get_linear_schedule_with_warmup)\n",
        "\n",
        "%matplotlib inline\n",
        "py.init_notebook_mode(connected=True)\n",
        "\n",
        "\n",
        "logging.disable(logging.WARNING)"
      ]
    },
    {
      "cell_type": "code",
      "execution_count": null,
      "metadata": {
        "id": "6wFmJjrqfDOt"
      },
      "outputs": [],
      "source": [
        "SEED = 1234\n",
        "\n",
        "np.random.seed(SEED)\n",
        "torch.manual_seed(SEED)\n",
        "torch.cuda.manual_seed(SEED)\n",
        "torch.backends.cudnn.deterministic = True"
      ]
    },
    {
      "cell_type": "markdown",
      "metadata": {
        "id": "qOoqsqMw5iLm"
      },
      "source": [
        "# Data analysis"
      ]
    },
    {
      "cell_type": "code",
      "execution_count": null,
      "metadata": {
        "id": "1hxGWG_VgrlL"
      },
      "outputs": [],
      "source": [
        "df = pd.read_csv(\"../../data/train.csv\")"
      ]
    },
    {
      "cell_type": "code",
      "execution_count": null,
      "metadata": {
        "id": "-gFeu88WhAfk"
      },
      "outputs": [],
      "source": [
        "print(\"Number of data points:\", df.shape[0])\n",
        "df.head()"
      ]
    },
    {
      "cell_type": "code",
      "execution_count": null,
      "metadata": {
        "id": "md7OEGPVhL4W"
      },
      "outputs": [],
      "source": [
        "df.info()"
      ]
    },
    {
      "cell_type": "code",
      "execution_count": null,
      "metadata": {
        "id": "uzUuzg02hfx0"
      },
      "outputs": [],
      "source": [
        "df.isna().sum()"
      ]
    },
    {
      "cell_type": "code",
      "execution_count": null,
      "metadata": {
        "colab": {
          "base_uri": "https://localhost:8080/",
          "height": 294
        },
        "id": "VlgTSoRN3LgE",
        "outputId": "98032067-eb98-4ace-8e90-48dccd07c29b"
      },
      "outputs": [
        {
          "data": {
            "text/plain": [
              "<matplotlib.axes._subplots.AxesSubplot at 0x7ff50ac1fb90>"
            ]
          },
          "execution_count": 20,
          "metadata": {},
          "output_type": "execute_result"
        },
        {
          "data": {
            "image/png": "[encoded data removed]",
            "text/plain": [
              "<Figure size 432x288 with 1 Axes>"
            ]
          },
          "metadata": {
            "needs_background": "light"
          },
          "output_type": "display_data"
        }
      ],
      "source": [
        "# number of duplicate(smilar) and non-duplicate(non similar) company names\n",
        "\n",
        "df.groupby(\"is_duplicate\")[\"pair_id\"].count().plot.bar()"
      ]
    },
    {
      "cell_type": "code",
      "execution_count": null,
      "metadata": {
        "colab": {
          "base_uri": "https://localhost:8080/"
        },
        "id": "A1cVg6T--uVb",
        "outputId": "a4d0b8a4-2661-4329-9a79-554842fb66c9"
      },
      "outputs": [
        {
          "name": "stdout",
          "output_type": "stream",
          "text": [
            "~> Pairs of companies are not Similar (is_duplicate = 0):\n",
            "   99.27%\n",
            "\n",
            "~> Pairs of companies are Similar (is_duplicate = 1):\n",
            "   0.73%\n"
          ]
        }
      ],
      "source": [
        "print(\n",
        "    \"~> Pairs of companies are not Similar (is_duplicate = 0):\\n   {}%\".format(\n",
        "        100 - round(df[\"is_duplicate\"].mean() * 100, 2)\n",
        "    )\n",
        ")\n",
        "print(\n",
        "    \"\\n~> Pairs of companies are Similar (is_duplicate = 1):\\n   {}%\".format(\n",
        "        round(df[\"is_duplicate\"].mean() * 100, 2)\n",
        "    )\n",
        ")"
      ]
    },
    {
      "cell_type": "markdown",
      "metadata": {
        "id": "cn9yvGQ9iXU1"
      },
      "source": [
        "Draw graph which shows number of words in both company names"
      ]
    },
    {
      "cell_type": "code",
      "execution_count": null,
      "metadata": {
        "colab": {
          "base_uri": "https://localhost:8080/",
          "height": 374
        },
        "id": "roSiWySIiWet",
        "outputId": "60866079-2244-48a7-dd4e-55bc13b83283"
      },
      "outputs": [
        {
          "name": "stderr",
          "output_type": "stream",
          "text": [
            "/usr/local/lib/python3.7/dist-packages/seaborn/distributions.py:2619: FutureWarning:\n",
            "\n",
            "`distplot` is a deprecated function and will be removed in a future version. Please adapt your code to use either `displot` (a figure-level function with similar flexibility) or `histplot` (an axes-level function for histograms).\n",
            "\n"
          ]
        },
        {
          "data": {
            "text/plain": [
              "<matplotlib.axes._subplots.AxesSubplot at 0x7ff50b712150>"
            ]
          },
          "execution_count": 22,
          "metadata": {},
          "output_type": "execute_result"
        },
        {
          "data": {
            "image/png": "[encoded data removed]",
            "text/plain": [
              "<Figure size 432x288 with 1 Axes>"
            ]
          },
          "metadata": {
            "needs_background": "light"
          },
          "output_type": "display_data"
        }
      ],
      "source": [
        "train_sentences_lens = df[\"name_1\"].apply(lambda x: len(x.split(\" \"))).tolist()\n",
        "train_sentences_lens.extend(df[\"name_2\"].apply(lambda x: len(x.split(\" \"))).tolist())\n",
        "sns.distplot(train_sentences_lens)"
      ]
    },
    {
      "cell_type": "code",
      "execution_count": null,
      "metadata": {
        "id": "LnTe6tU7jSEq"
      },
      "outputs": [],
      "source": [
        "MAX_LEN = 15"
      ]
    },
    {
      "cell_type": "code",
      "execution_count": null,
      "metadata": {
        "colab": {
          "base_uri": "https://localhost:8080/"
        },
        "id": "HTL6exiq-1rT",
        "outputId": "f623516a-08ff-40a2-cc37-a02987393e6d"
      },
      "outputs": [
        {
          "name": "stdout",
          "output_type": "stream",
          "text": [
            "Total number of unique company names: 18022\n",
            "\n",
            "Number of unique company names that appear more than one time: 17465 (96.90933303739874%)\n",
            "\n",
            "Max number of times a single company names is repeated: 2861\n",
            "\n"
          ]
        }
      ],
      "source": [
        "# number of unique company names\n",
        "\n",
        "cids = pd.Series(df[\"name_1\"].tolist() + df[\"name_2\"].tolist())\n",
        "unique_cs = len(np.unique(cids))\n",
        "\n",
        "cs_morethan_onetime = np.sum(cids.value_counts() > 1)\n",
        "print(\"Total number of unique company names: {}\\n\".format(unique_cs))\n",
        "\n",
        "print(\n",
        "    \"Number of unique company names that appear more than one time: {} ({}%)\\n\".format(\n",
        "        cs_morethan_onetime, cs_morethan_onetime / unique_cs * 100\n",
        "    )\n",
        ")\n",
        "\n",
        "print(\n",
        "    \"Max number of times a single company names is repeated: {}\\n\".format(\n",
        "        max(cids.value_counts())\n",
        "    )\n",
        ")\n",
        "\n",
        "c_vals = cids.value_counts()\n",
        "\n",
        "c_vals = c_vals.values\n"
      ]
    },
    {
      "cell_type": "code",
      "execution_count": null,
      "metadata": {
        "colab": {
          "base_uri": "https://localhost:8080/",
          "height": 479
        },
        "id": "6LBPZ7Ax_CeY",
        "outputId": "73c07d09-e22b-4517-b1fd-c1cb6c1bdddd"
      },
      "outputs": [
        {
          "name": "stderr",
          "output_type": "stream",
          "text": [
            "/usr/local/lib/python3.7/dist-packages/seaborn/_decorators.py:43: FutureWarning:\n",
            "\n",
            "Pass the following variables as keyword args: x, y. From version 0.12, the only valid positional argument will be `data`, and passing other arguments without an explicit keyword will result in an error or misinterpretation.\n",
            "\n"
          ]
        },
        {
          "data": {
            "image/png": "[encoded data removed]",
            "text/plain": [
              "<Figure size 720x432 with 1 Axes>"
            ]
          },
          "metadata": {
            "needs_background": "light"
          },
          "output_type": "display_data"
        }
      ],
      "source": [
        "x = [\"unique company names\", \"repeated company names\"]\n",
        "y = [unique_cs, cs_morethan_onetime]\n",
        "\n",
        "plt.figure(figsize=(10, 6))\n",
        "plt.title(\"Plot representing unique and repeated company names\")\n",
        "sns.barplot(x, y)\n",
        "plt.show()"
      ]
    },
    {
      "cell_type": "code",
      "execution_count": null,
      "metadata": {
        "colab": {
          "base_uri": "https://localhost:8080/"
        },
        "id": "TNdPSYqS_MGX",
        "outputId": "12f12beb-054f-45fa-9023-88da7b4a03ea"
      },
      "outputs": [
        {
          "name": "stdout",
          "output_type": "stream",
          "text": [
            "Number of duplicate company names:  0\n"
          ]
        }
      ],
      "source": [
        "# checking whether there are any repeated pair of company names\n",
        "\n",
        "pair_duplicates = (\n",
        "    df[[\"name_1\", \"name_2\"]]\n",
        "    .groupby([\"name_1\", \"name_2\"])\n",
        "    .size()\n",
        "    .reset_index(name=\"count\")\n",
        ")\n",
        "\n",
        "print(\"Number of duplicate company names: \", (pair_duplicates).shape[0] - df.shape[0])\n",
        "\n"
      ]
    },
    {
      "cell_type": "code",
      "execution_count": null,
      "metadata": {
        "colab": {
          "base_uri": "https://localhost:8080/",
          "height": 496
        },
        "id": "nIeZ0ZAE_XIX",
        "outputId": "8d14c121-599f-420c-ad67-385ad5558dd5"
      },
      "outputs": [
        {
          "name": "stdout",
          "output_type": "stream",
          "text": [
            "Maximum number of times a single names is repeated: 2861\n",
            "\n"
          ]
        },
        {
          "data": {
            "image/png": "[encoded data removed]",
            "text/plain": [
              "<Figure size 1440x720 with 1 Axes>"
            ]
          },
          "metadata": {
            "needs_background": "light"
          },
          "output_type": "display_data"
        }
      ],
      "source": [
        "# number of occurrences of each company names\n",
        "\n",
        "plt.figure(figsize=(20, 10))\n",
        "\n",
        "plt.hist(cids.value_counts(), bins=160)\n",
        "\n",
        "plt.yscale(\"log\", nonposy=\"clip\")\n",
        "\n",
        "plt.title(\"Log-Histogram of names appearance counts\")\n",
        "\n",
        "plt.xlabel(\"Number of occurences of names\")\n",
        "\n",
        "plt.ylabel(\"Number of names\")\n",
        "\n",
        "print(\n",
        "    \"Maximum number of times a single names is repeated: {}\\n\".format(\n",
        "        max(cids.value_counts())\n",
        "    )\n",
        ")\n"
      ]
    },
    {
      "cell_type": "code",
      "execution_count": null,
      "metadata": {
        "colab": {
          "base_uri": "https://localhost:8080/"
        },
        "id": "rwqb0AYf_oVT",
        "outputId": "17078f54-4508-4eb5-a800-7a2f261b666c"
      },
      "outputs": [
        {
          "name": "stdout",
          "output_type": "stream",
          "text": [
            "Empty DataFrame\n",
            "Columns: [pair_id, name_1, name_2, is_duplicate, c1len, c2len, c1_n_words, c2_n_words, word_Common, word_Total, word_share]\n",
            "Index: []\n"
          ]
        },
        {
          "data": {
            "text/plain": [
              "0"
            ]
          },
          "execution_count": 28,
          "metadata": {},
          "output_type": "execute_result"
        }
      ],
      "source": [
        "# checking whether there are any rows with null values\n",
        "\n",
        "nan_rows = df[df.isnull().any(1)]\n",
        "print(nan_rows)\n",
        "df.isnull().sum().sum()"
      ]
    },
    {
      "cell_type": "code",
      "source": [
        "df1 = df.copy()"
      ],
      "metadata": {
        "id": "7lAkh4UL6Kmn"
      },
      "execution_count": null,
      "outputs": []
    },
    {
      "cell_type": "code",
      "execution_count": null,
      "metadata": {
        "id": "xwIoOK93e9SM"
      },
      "outputs": [],
      "source": [
        "device = torch.device(\"cuda\" if torch.cuda.is_available() else \"cpu\")"
      ]
    },
    {
      "cell_type": "markdown",
      "metadata": {
        "id": "d6hLkUn2fLb1"
      },
      "source": [
        "# Dataset Preparation"
      ]
    },
    {
      "cell_type": "code",
      "execution_count": null,
      "metadata": {
        "id": "MLPw9jb1fMc2"
      },
      "outputs": [],
      "source": [
        "BERT_VERSION = \"bert-base-uncased\"\n",
        "POOLED_OUTPUT_DIM = 768"
      ]
    },
    {
      "cell_type": "code",
      "execution_count": null,
      "metadata": {
        "colab": {
          "base_uri": "https://localhost:8080/",
          "height": 113,
          "referenced_widgets": [
            "7c2248c407bd4f4f93da1df87218e5e3",
            "d5144a3d6bfa49988463f79a27fb7d2f",
            "5abd491d1bf046c29aeb4fb1667eec7c",
            "716f0bfc837e48329c679efc8b8f37fd",
            "7dceaca462f3453ba8b045ddafca84cb",
            "ff78833f423842d5bcb0386d999d7784",
            "2551ee37d35c4de8a90136e71188de53",
            "2274666137404e2fb61f56e67c08d250",
            "7029193f8aa74f45a8aa14bc79614455",
            "351a4fcc573e4fea9770b5bd0e2f2ae9",
            "9670329a6d144b30917c1d4b27708c4f",
            "4871a9f252e0499c99a0b5288ac3db0b",
            "79fa00419c03403aa782b487d0ccc8d8",
            "07e948da3d1244af94a48b53f6577a64",
            "fe8dd4985a2942f5977da888362f52ae",
            "aa1537e6202f430db89a58ba8276e12f",
            "443ac73bd66a4023985b81da8aaf03ed",
            "606f9c7e86204858b3e4188c1250869d",
            "14b21f690d6a4ed3b2c18bc01474283b",
            "5b352286626c4251aebd1d7b70dd3638",
            "5bb96b4aad83458688e3e676df6821a5",
            "e370dbd94f1c4850863aa09185d89cce",
            "5309a5908b48496fbe73c35c0e6f4aa0",
            "b5f039f972e64e93939636651007bdab",
            "b7fd11aa965045a9bc7ce23271626165",
            "8d8d5d1b7516457db2740f8ae089eb08",
            "3551f49892dd47db847b7348894747b6",
            "186a26a48ffd414ab4493a4cae215a85",
            "9c289311acaf43b79cad0bde4b295d35",
            "67a73baf1e674a77bb4e5ee0980763c5",
            "a9c71dcd811048fbb382b8db5cf51e4c",
            "472d71f2df6e4f7d826ac86607a8ddc3",
            "dfcafa0f5a1343d99418236a606060af"
          ]
        },
        "id": "a-09ReMDfTNO",
        "outputId": "4c446240-3aaf-4361-ea49-9482cae378ec"
      },
      "outputs": [
        {
          "data": {
            "application/vnd.jupyter.widget-view+json": {
              "model_id": "7c2248c407bd4f4f93da1df87218e5e3",
              "version_major": 2,
              "version_minor": 0
            },
            "text/plain": [
              "Downloading:   0%|          | 0.00/232k [00:00<?, ?B/s]"
            ]
          },
          "metadata": {},
          "output_type": "display_data"
        },
        {
          "data": {
            "application/vnd.jupyter.widget-view+json": {
              "model_id": "4871a9f252e0499c99a0b5288ac3db0b",
              "version_major": 2,
              "version_minor": 0
            },
            "text/plain": [
              "Downloading:   0%|          | 0.00/28.0 [00:00<?, ?B/s]"
            ]
          },
          "metadata": {},
          "output_type": "display_data"
        },
        {
          "data": {
            "application/vnd.jupyter.widget-view+json": {
              "model_id": "5309a5908b48496fbe73c35c0e6f4aa0",
              "version_major": 2,
              "version_minor": 0
            },
            "text/plain": [
              "Downloading:   0%|          | 0.00/570 [00:00<?, ?B/s]"
            ]
          },
          "metadata": {},
          "output_type": "display_data"
        }
      ],
      "source": [
        "tokenizer = BertTokenizer.from_pretrained(BERT_VERSION)"
      ]
    },
    {
      "cell_type": "code",
      "execution_count": null,
      "metadata": {
        "id": "1CUEp_BSfXY7"
      },
      "outputs": [],
      "source": [
        "# split data to train and validation sets\n",
        "\n",
        "train_df, val_df = train_test_split(df1, test_size=0.1)\n",
        "train_df = train_df.reset_index(drop=True)\n",
        "val_df = val_df.reset_index(drop=True)"
      ]
    },
    {
      "cell_type": "code",
      "execution_count": null,
      "metadata": {
        "id": "MIOiFywRgYfP"
      },
      "outputs": [],
      "source": [
        "class BertDataSet:\n",
        "    def __init__(self, first_names, second_names, targets, tokenizer):\n",
        "        self.first_names = first_names\n",
        "        self.second_names = second_names\n",
        "        self.targets = targets\n",
        "        self.tokenizer = tokenizer\n",
        "        self.length = len(first_names)\n",
        "\n",
        "    def __len__(self):\n",
        "        return self.length\n",
        "\n",
        "    def __getitem__(self, item):\n",
        "        first_names = str(self.first_names[item])\n",
        "        second_names = str(self.second_names[item])\n",
        "\n",
        "        # removes extra white spaces from names\n",
        "        first_names = \" \".join(first_names.split())\n",
        "        second_names = \" \".join(second_names.split())\n",
        "\n",
        "        ### [CLS] name_1 [SEP] name_2 [SEP] ... [PAD]\n",
        "        inputs = self.tokenizer.encode_plus(\n",
        "            first_names,\n",
        "            second_names,\n",
        "            add_special_tokens=True,\n",
        "            padding=\"max_length\",\n",
        "            max_length=2 * MAX_LEN + 3, \n",
        "            truncation=True,\n",
        "        )\n",
        "\n",
        "        # return targets 0, when using data set in testing and targets are none\n",
        "        return {\n",
        "            \"ids\": torch.tensor(inputs[\"input_ids\"], dtype=torch.long),\n",
        "            \"mask\": torch.tensor(inputs[\"attention_mask\"], dtype=torch.long),\n",
        "            \"token_type_ids\": torch.tensor(inputs[\"token_type_ids\"], dtype=torch.long),\n",
        "            \"targets\": torch.tensor(int(self.targets[item]), dtype=torch.long)\n",
        "            if self.targets is not None\n",
        "            else 0,\n",
        "        }"
      ]
    },
    {
      "cell_type": "code",
      "execution_count": null,
      "metadata": {
        "id": "0KpiO9VojsxG"
      },
      "outputs": [],
      "source": [
        "# creates dataset and returns dataloader of it\n",
        "\n",
        "def get_data_loader(df, targets, batch_size, shuffle, tokenizer):\n",
        "    dataset = BertDataSet(\n",
        "        first_names=df[\"name_1\"].values,\n",
        "        second_names=df[\"name_2\"].values,\n",
        "        targets=targets,\n",
        "        tokenizer=tokenizer,\n",
        "    )\n",
        "\n",
        "    data_loader = torch.utils.data.DataLoader(\n",
        "        dataset, batch_size=batch_size, shuffle=shuffle\n",
        "    )\n",
        "\n",
        "    return data_loader"
      ]
    },
    {
      "cell_type": "code",
      "execution_count": null,
      "metadata": {
        "id": "Be0E4zD-j8_B"
      },
      "outputs": [],
      "source": [
        "# training batch size we gonna use throughout this notebook\n",
        "\n",
        "BS = 128"
      ]
    },
    {
      "cell_type": "code",
      "execution_count": null,
      "metadata": {
        "id": "rTd2NlIvkBYI"
      },
      "outputs": [],
      "source": [
        "# create data loaders of training and validation data\n",
        "\n",
        "train_data_loader = get_data_loader(\n",
        "    df=train_df,\n",
        "    targets=train_df[\"is_duplicate\"].values,\n",
        "    batch_size=BS,\n",
        "    shuffle=True,\n",
        "    tokenizer=tokenizer,\n",
        ")\n",
        "\n",
        "val_data_loader = get_data_loader(\n",
        "    df=val_df,\n",
        "    targets=val_df[\"is_duplicate\"].values,\n",
        "    batch_size=4 * BS,\n",
        "    shuffle=True,\n",
        "    tokenizer=tokenizer,\n",
        ")"
      ]
    },
    {
      "cell_type": "markdown",
      "metadata": {
        "id": "nN3kE84UlXzR"
      },
      "source": [
        "# Model"
      ]
    },
    {
      "cell_type": "code",
      "execution_count": null,
      "metadata": {
        "colab": {
          "base_uri": "https://localhost:8080/",
          "height": 49,
          "referenced_widgets": [
            "ae76b3e235dd48c2840bfb0754d440ca",
            "3cf75982c8604972a417cf516b0c1e6e",
            "363f509e976249fcb0b6b234fa1877f7",
            "c40413e33d0a48a7924d31c669894d63",
            "fb03955784f4482e8bc2b6066d317c21",
            "b7dcc8ffb2864aeaae1ebdeee967c0f5",
            "e882cfd5fd0842b494a666823731977e",
            "2c6fb038f25f434a98522116fcc13ab2",
            "c33f77049824440ba86c7568fb22a071",
            "6e9f1204578644bba0ffe7d2b68b3f02",
            "bdb974b2dbba4724b15ade6690a5e5ed"
          ]
        },
        "id": "e67cuDEwlWFA",
        "outputId": "61283711-8815-4410-f42b-166250538383"
      },
      "outputs": [
        {
          "data": {
            "application/vnd.jupyter.widget-view+json": {
              "model_id": "ae76b3e235dd48c2840bfb0754d440ca",
              "version_major": 2,
              "version_minor": 0
            },
            "text/plain": [
              "Downloading:   0%|          | 0.00/440M [00:00<?, ?B/s]"
            ]
          },
          "metadata": {},
          "output_type": "display_data"
        }
      ],
      "source": [
        "class BertModel(nn.Module):\n",
        "    def __init__(self, bert_path):\n",
        "        super(BertModel, self).__init__()\n",
        "        self.bert_path = bert_path\n",
        "        self.bert = transformers.BertModel.from_pretrained(\n",
        "            self.bert_path, return_dict=False\n",
        "        )\n",
        "        self.dropout = nn.Dropout(0.3)\n",
        "        self.out = nn.Linear(POOLED_OUTPUT_DIM, 1)\n",
        "\n",
        "    def forward(self, ids, mask, token_type_ids):\n",
        "        _, pooled = self.bert(ids, attention_mask=mask, token_type_ids=token_type_ids)\n",
        "\n",
        "        # add dropout to prevent overfitting\n",
        "        pooled = self.dropout(pooled)\n",
        "        return self.out(pooled)\n",
        "\n",
        "\n",
        "model = BertModel(BERT_VERSION).to(device)"
      ]
    },
    {
      "cell_type": "code",
      "execution_count": null,
      "metadata": {
        "colab": {
          "base_uri": "https://localhost:8080/"
        },
        "id": "-YM323J9iYMy",
        "outputId": "c1426f63-a1f6-4ce1-b95d-a83cc746a73e"
      },
      "outputs": [
        {
          "data": {
            "text/plain": [
              "BertModel(\n",
              "  (bert): BertModel(\n",
              "    (embeddings): BertEmbeddings(\n",
              "      (word_embeddings): Embedding(30522, 768, padding_idx=0)\n",
              "      (position_embeddings): Embedding(512, 768)\n",
              "      (token_type_embeddings): Embedding(2, 768)\n",
              "      (LayerNorm): LayerNorm((768,), eps=1e-12, elementwise_affine=True)\n",
              "      (dropout): Dropout(p=0.1, inplace=False)\n",
              "    )\n",
              "    (encoder): BertEncoder(\n",
              "      (layer): ModuleList(\n",
              "        (0): BertLayer(\n",
              "          (attention): BertAttention(\n",
              "            (self): BertSelfAttention(\n",
              "              (query): Linear(in_features=768, out_features=768, bias=True)\n",
              "              (key): Linear(in_features=768, out_features=768, bias=True)\n",
              "              (value): Linear(in_features=768, out_features=768, bias=True)\n",
              "              (dropout): Dropout(p=0.1, inplace=False)\n",
              "            )\n",
              "            (output): BertSelfOutput(\n",
              "              (dense): Linear(in_features=768, out_features=768, bias=True)\n",
              "              (LayerNorm): LayerNorm((768,), eps=1e-12, elementwise_affine=True)\n",
              "              (dropout): Dropout(p=0.1, inplace=False)\n",
              "            )\n",
              "          )\n",
              "          (intermediate): BertIntermediate(\n",
              "            (dense): Linear(in_features=768, out_features=3072, bias=True)\n",
              "            (intermediate_act_fn): GELUActivation()\n",
              "          )\n",
              "          (output): BertOutput(\n",
              "            (dense): Linear(in_features=3072, out_features=768, bias=True)\n",
              "            (LayerNorm): LayerNorm((768,), eps=1e-12, elementwise_affine=True)\n",
              "            (dropout): Dropout(p=0.1, inplace=False)\n",
              "          )\n",
              "        )\n",
              "        (1): BertLayer(\n",
              "          (attention): BertAttention(\n",
              "            (self): BertSelfAttention(\n",
              "              (query): Linear(in_features=768, out_features=768, bias=True)\n",
              "              (key): Linear(in_features=768, out_features=768, bias=True)\n",
              "              (value): Linear(in_features=768, out_features=768, bias=True)\n",
              "              (dropout): Dropout(p=0.1, inplace=False)\n",
              "            )\n",
              "            (output): BertSelfOutput(\n",
              "              (dense): Linear(in_features=768, out_features=768, bias=True)\n",
              "              (LayerNorm): LayerNorm((768,), eps=1e-12, elementwise_affine=True)\n",
              "              (dropout): Dropout(p=0.1, inplace=False)\n",
              "            )\n",
              "          )\n",
              "          (intermediate): BertIntermediate(\n",
              "            (dense): Linear(in_features=768, out_features=3072, bias=True)\n",
              "            (intermediate_act_fn): GELUActivation()\n",
              "          )\n",
              "          (output): BertOutput(\n",
              "            (dense): Linear(in_features=3072, out_features=768, bias=True)\n",
              "            (LayerNorm): LayerNorm((768,), eps=1e-12, elementwise_affine=True)\n",
              "            (dropout): Dropout(p=0.1, inplace=False)\n",
              "          )\n",
              "        )\n",
              "        (2): BertLayer(\n",
              "          (attention): BertAttention(\n",
              "            (self): BertSelfAttention(\n",
              "              (query): Linear(in_features=768, out_features=768, bias=True)\n",
              "              (key): Linear(in_features=768, out_features=768, bias=True)\n",
              "              (value): Linear(in_features=768, out_features=768, bias=True)\n",
              "              (dropout): Dropout(p=0.1, inplace=False)\n",
              "            )\n",
              "            (output): BertSelfOutput(\n",
              "              (dense): Linear(in_features=768, out_features=768, bias=True)\n",
              "              (LayerNorm): LayerNorm((768,), eps=1e-12, elementwise_affine=True)\n",
              "              (dropout): Dropout(p=0.1, inplace=False)\n",
              "            )\n",
              "          )\n",
              "          (intermediate): BertIntermediate(\n",
              "            (dense): Linear(in_features=768, out_features=3072, bias=True)\n",
              "            (intermediate_act_fn): GELUActivation()\n",
              "          )\n",
              "          (output): BertOutput(\n",
              "            (dense): Linear(in_features=3072, out_features=768, bias=True)\n",
              "            (LayerNorm): LayerNorm((768,), eps=1e-12, elementwise_affine=True)\n",
              "            (dropout): Dropout(p=0.1, inplace=False)\n",
              "          )\n",
              "        )\n",
              "        (3): BertLayer(\n",
              "          (attention): BertAttention(\n",
              "            (self): BertSelfAttention(\n",
              "              (query): Linear(in_features=768, out_features=768, bias=True)\n",
              "              (key): Linear(in_features=768, out_features=768, bias=True)\n",
              "              (value): Linear(in_features=768, out_features=768, bias=True)\n",
              "              (dropout): Dropout(p=0.1, inplace=False)\n",
              "            )\n",
              "            (output): BertSelfOutput(\n",
              "              (dense): Linear(in_features=768, out_features=768, bias=True)\n",
              "              (LayerNorm): LayerNorm((768,), eps=1e-12, elementwise_affine=True)\n",
              "              (dropout): Dropout(p=0.1, inplace=False)\n",
              "            )\n",
              "          )\n",
              "          (intermediate): BertIntermediate(\n",
              "            (dense): Linear(in_features=768, out_features=3072, bias=True)\n",
              "            (intermediate_act_fn): GELUActivation()\n",
              "          )\n",
              "          (output): BertOutput(\n",
              "            (dense): Linear(in_features=3072, out_features=768, bias=True)\n",
              "            (LayerNorm): LayerNorm((768,), eps=1e-12, elementwise_affine=True)\n",
              "            (dropout): Dropout(p=0.1, inplace=False)\n",
              "          )\n",
              "        )\n",
              "        (4): BertLayer(\n",
              "          (attention): BertAttention(\n",
              "            (self): BertSelfAttention(\n",
              "              (query): Linear(in_features=768, out_features=768, bias=True)\n",
              "              (key): Linear(in_features=768, out_features=768, bias=True)\n",
              "              (value): Linear(in_features=768, out_features=768, bias=True)\n",
              "              (dropout): Dropout(p=0.1, inplace=False)\n",
              "            )\n",
              "            (output): BertSelfOutput(\n",
              "              (dense): Linear(in_features=768, out_features=768, bias=True)\n",
              "              (LayerNorm): LayerNorm((768,), eps=1e-12, elementwise_affine=True)\n",
              "              (dropout): Dropout(p=0.1, inplace=False)\n",
              "            )\n",
              "          )\n",
              "          (intermediate): BertIntermediate(\n",
              "            (dense): Linear(in_features=768, out_features=3072, bias=True)\n",
              "            (intermediate_act_fn): GELUActivation()\n",
              "          )\n",
              "          (output): BertOutput(\n",
              "            (dense): Linear(in_features=3072, out_features=768, bias=True)\n",
              "            (LayerNorm): LayerNorm((768,), eps=1e-12, elementwise_affine=True)\n",
              "            (dropout): Dropout(p=0.1, inplace=False)\n",
              "          )\n",
              "        )\n",
              "        (5): BertLayer(\n",
              "          (attention): BertAttention(\n",
              "            (self): BertSelfAttention(\n",
              "              (query): Linear(in_features=768, out_features=768, bias=True)\n",
              "              (key): Linear(in_features=768, out_features=768, bias=True)\n",
              "              (value): Linear(in_features=768, out_features=768, bias=True)\n",
              "              (dropout): Dropout(p=0.1, inplace=False)\n",
              "            )\n",
              "            (output): BertSelfOutput(\n",
              "              (dense): Linear(in_features=768, out_features=768, bias=True)\n",
              "              (LayerNorm): LayerNorm((768,), eps=1e-12, elementwise_affine=True)\n",
              "              (dropout): Dropout(p=0.1, inplace=False)\n",
              "            )\n",
              "          )\n",
              "          (intermediate): BertIntermediate(\n",
              "            (dense): Linear(in_features=768, out_features=3072, bias=True)\n",
              "            (intermediate_act_fn): GELUActivation()\n",
              "          )\n",
              "          (output): BertOutput(\n",
              "            (dense): Linear(in_features=3072, out_features=768, bias=True)\n",
              "            (LayerNorm): LayerNorm((768,), eps=1e-12, elementwise_affine=True)\n",
              "            (dropout): Dropout(p=0.1, inplace=False)\n",
              "          )\n",
              "        )\n",
              "        (6): BertLayer(\n",
              "          (attention): BertAttention(\n",
              "            (self): BertSelfAttention(\n",
              "              (query): Linear(in_features=768, out_features=768, bias=True)\n",
              "              (key): Linear(in_features=768, out_features=768, bias=True)\n",
              "              (value): Linear(in_features=768, out_features=768, bias=True)\n",
              "              (dropout): Dropout(p=0.1, inplace=False)\n",
              "            )\n",
              "            (output): BertSelfOutput(\n",
              "              (dense): Linear(in_features=768, out_features=768, bias=True)\n",
              "              (LayerNorm): LayerNorm((768,), eps=1e-12, elementwise_affine=True)\n",
              "              (dropout): Dropout(p=0.1, inplace=False)\n",
              "            )\n",
              "          )\n",
              "          (intermediate): BertIntermediate(\n",
              "            (dense): Linear(in_features=768, out_features=3072, bias=True)\n",
              "            (intermediate_act_fn): GELUActivation()\n",
              "          )\n",
              "          (output): BertOutput(\n",
              "            (dense): Linear(in_features=3072, out_features=768, bias=True)\n",
              "            (LayerNorm): LayerNorm((768,), eps=1e-12, elementwise_affine=True)\n",
              "            (dropout): Dropout(p=0.1, inplace=False)\n",
              "          )\n",
              "        )\n",
              "        (7): BertLayer(\n",
              "          (attention): BertAttention(\n",
              "            (self): BertSelfAttention(\n",
              "              (query): Linear(in_features=768, out_features=768, bias=True)\n",
              "              (key): Linear(in_features=768, out_features=768, bias=True)\n",
              "              (value): Linear(in_features=768, out_features=768, bias=True)\n",
              "              (dropout): Dropout(p=0.1, inplace=False)\n",
              "            )\n",
              "            (output): BertSelfOutput(\n",
              "              (dense): Linear(in_features=768, out_features=768, bias=True)\n",
              "              (LayerNorm): LayerNorm((768,), eps=1e-12, elementwise_affine=True)\n",
              "              (dropout): Dropout(p=0.1, inplace=False)\n",
              "            )\n",
              "          )\n",
              "          (intermediate): BertIntermediate(\n",
              "            (dense): Linear(in_features=768, out_features=3072, bias=True)\n",
              "            (intermediate_act_fn): GELUActivation()\n",
              "          )\n",
              "          (output): BertOutput(\n",
              "            (dense): Linear(in_features=3072, out_features=768, bias=True)\n",
              "            (LayerNorm): LayerNorm((768,), eps=1e-12, elementwise_affine=True)\n",
              "            (dropout): Dropout(p=0.1, inplace=False)\n",
              "          )\n",
              "        )\n",
              "        (8): BertLayer(\n",
              "          (attention): BertAttention(\n",
              "            (self): BertSelfAttention(\n",
              "              (query): Linear(in_features=768, out_features=768, bias=True)\n",
              "              (key): Linear(in_features=768, out_features=768, bias=True)\n",
              "              (value): Linear(in_features=768, out_features=768, bias=True)\n",
              "              (dropout): Dropout(p=0.1, inplace=False)\n",
              "            )\n",
              "            (output): BertSelfOutput(\n",
              "              (dense): Linear(in_features=768, out_features=768, bias=True)\n",
              "              (LayerNorm): LayerNorm((768,), eps=1e-12, elementwise_affine=True)\n",
              "              (dropout): Dropout(p=0.1, inplace=False)\n",
              "            )\n",
              "          )\n",
              "          (intermediate): BertIntermediate(\n",
              "            (dense): Linear(in_features=768, out_features=3072, bias=True)\n",
              "            (intermediate_act_fn): GELUActivation()\n",
              "          )\n",
              "          (output): BertOutput(\n",
              "            (dense): Linear(in_features=3072, out_features=768, bias=True)\n",
              "            (LayerNorm): LayerNorm((768,), eps=1e-12, elementwise_affine=True)\n",
              "            (dropout): Dropout(p=0.1, inplace=False)\n",
              "          )\n",
              "        )\n",
              "        (9): BertLayer(\n",
              "          (attention): BertAttention(\n",
              "            (self): BertSelfAttention(\n",
              "              (query): Linear(in_features=768, out_features=768, bias=True)\n",
              "              (key): Linear(in_features=768, out_features=768, bias=True)\n",
              "              (value): Linear(in_features=768, out_features=768, bias=True)\n",
              "              (dropout): Dropout(p=0.1, inplace=False)\n",
              "            )\n",
              "            (output): BertSelfOutput(\n",
              "              (dense): Linear(in_features=768, out_features=768, bias=True)\n",
              "              (LayerNorm): LayerNorm((768,), eps=1e-12, elementwise_affine=True)\n",
              "              (dropout): Dropout(p=0.1, inplace=False)\n",
              "            )\n",
              "          )\n",
              "          (intermediate): BertIntermediate(\n",
              "            (dense): Linear(in_features=768, out_features=3072, bias=True)\n",
              "            (intermediate_act_fn): GELUActivation()\n",
              "          )\n",
              "          (output): BertOutput(\n",
              "            (dense): Linear(in_features=3072, out_features=768, bias=True)\n",
              "            (LayerNorm): LayerNorm((768,), eps=1e-12, elementwise_affine=True)\n",
              "            (dropout): Dropout(p=0.1, inplace=False)\n",
              "          )\n",
              "        )\n",
              "        (10): BertLayer(\n",
              "          (attention): BertAttention(\n",
              "            (self): BertSelfAttention(\n",
              "              (query): Linear(in_features=768, out_features=768, bias=True)\n",
              "              (key): Linear(in_features=768, out_features=768, bias=True)\n",
              "              (value): Linear(in_features=768, out_features=768, bias=True)\n",
              "              (dropout): Dropout(p=0.1, inplace=False)\n",
              "            )\n",
              "            (output): BertSelfOutput(\n",
              "              (dense): Linear(in_features=768, out_features=768, bias=True)\n",
              "              (LayerNorm): LayerNorm((768,), eps=1e-12, elementwise_affine=True)\n",
              "              (dropout): Dropout(p=0.1, inplace=False)\n",
              "            )\n",
              "          )\n",
              "          (intermediate): BertIntermediate(\n",
              "            (dense): Linear(in_features=768, out_features=3072, bias=True)\n",
              "            (intermediate_act_fn): GELUActivation()\n",
              "          )\n",
              "          (output): BertOutput(\n",
              "            (dense): Linear(in_features=3072, out_features=768, bias=True)\n",
              "            (LayerNorm): LayerNorm((768,), eps=1e-12, elementwise_affine=True)\n",
              "            (dropout): Dropout(p=0.1, inplace=False)\n",
              "          )\n",
              "        )\n",
              "        (11): BertLayer(\n",
              "          (attention): BertAttention(\n",
              "            (self): BertSelfAttention(\n",
              "              (query): Linear(in_features=768, out_features=768, bias=True)\n",
              "              (key): Linear(in_features=768, out_features=768, bias=True)\n",
              "              (value): Linear(in_features=768, out_features=768, bias=True)\n",
              "              (dropout): Dropout(p=0.1, inplace=False)\n",
              "            )\n",
              "            (output): BertSelfOutput(\n",
              "              (dense): Linear(in_features=768, out_features=768, bias=True)\n",
              "              (LayerNorm): LayerNorm((768,), eps=1e-12, elementwise_affine=True)\n",
              "              (dropout): Dropout(p=0.1, inplace=False)\n",
              "            )\n",
              "          )\n",
              "          (intermediate): BertIntermediate(\n",
              "            (dense): Linear(in_features=768, out_features=3072, bias=True)\n",
              "            (intermediate_act_fn): GELUActivation()\n",
              "          )\n",
              "          (output): BertOutput(\n",
              "            (dense): Linear(in_features=3072, out_features=768, bias=True)\n",
              "            (LayerNorm): LayerNorm((768,), eps=1e-12, elementwise_affine=True)\n",
              "            (dropout): Dropout(p=0.1, inplace=False)\n",
              "          )\n",
              "        )\n",
              "      )\n",
              "    )\n",
              "    (pooler): BertPooler(\n",
              "      (dense): Linear(in_features=768, out_features=768, bias=True)\n",
              "      (activation): Tanh()\n",
              "    )\n",
              "  )\n",
              "  (dropout): Dropout(p=0.3, inplace=False)\n",
              "  (out): Linear(in_features=768, out_features=1, bias=True)\n",
              ")"
            ]
          },
          "execution_count": 24,
          "metadata": {},
          "output_type": "execute_result"
        }
      ],
      "source": [
        "with open(\"../../weights/BERT/saved_model\", \"rb\") as f:\n",
        "    state_dict = torch.load(f, map_location=torch.device(\"cpu\"))\n",
        "model.load_state_dict(state_dict, strict=False)\n",
        "model.to(device)"
      ]
    },
    {
      "cell_type": "markdown",
      "metadata": {
        "id": "T9tPcR6Ylm6E"
      },
      "source": [
        "# Training"
      ]
    },
    {
      "cell_type": "code",
      "execution_count": null,
      "metadata": {
        "id": "KfgCH21iljuM"
      },
      "outputs": [],
      "source": [
        "# loss function is simple binary cross entropy loss\n",
        "# need sigmoid to put probabilities in [0,1] interval\n",
        "\n",
        "def loss_fn(outputs, targets):\n",
        "    outputs = torch.squeeze(outputs)\n",
        "    return nn.BCELoss()(nn.Sigmoid()(outputs), targets)"
      ]
    },
    {
      "cell_type": "code",
      "execution_count": null,
      "metadata": {
        "id": "tqRpko3rluGr"
      },
      "outputs": [],
      "source": [
        "# computes perplexity on validation data\n",
        "\n",
        "def calculate_perplexity(data_loader, model, device):\n",
        "    model.eval()\n",
        "    \n",
        "    with torch.no_grad():\n",
        "        total_loss = 0\n",
        "        for batch in data_loader:\n",
        "            ids = batch[\"ids\"].to(device, dtype=torch.long)\n",
        "            mask = batch[\"mask\"].to(device, dtype=torch.long)\n",
        "            token_type_ids = batch[\"token_type_ids\"].to(device, dtype=torch.long)\n",
        "            targets = batch[\"targets\"].to(device, dtype=torch.float)\n",
        "\n",
        "            outputs = model(ids=ids, mask=mask, token_type_ids=token_type_ids)\n",
        "            total_loss += loss_fn(outputs, targets).item()\n",
        "            \n",
        "    model.train()\n",
        "\n",
        "    return np.exp(total_loss / len(data_loader))"
      ]
    },
    {
      "cell_type": "code",
      "execution_count": null,
      "metadata": {
        "id": "3o2UZD44lzUk"
      },
      "outputs": [],
      "source": [
        "def train_loop(\n",
        "    epochs, train_data_loader, val_data_loader, model, optimizer, device, scheduler=None\n",
        "):\n",
        "    it = 1\n",
        "    total_loss = 0\n",
        "    curr_perplexity = None\n",
        "    perplexity = None\n",
        "\n",
        "    model.train()\n",
        "    for epoch in range(epochs):\n",
        "        print(\"Epoch: \", epoch + 1)\n",
        "        for batch in train_data_loader:\n",
        "            ids = batch[\"ids\"].to(device, dtype=torch.long)\n",
        "            mask = batch[\"mask\"].to(device, dtype=torch.long)\n",
        "            token_type_ids = batch[\"token_type_ids\"].to(device, dtype=torch.long)\n",
        "            targets = batch[\"targets\"].to(device, dtype=torch.float)\n",
        "\n",
        "            optimizer.zero_grad()\n",
        "\n",
        "            outputs = model(ids, mask=mask, token_type_ids=token_type_ids)\n",
        "\n",
        "            loss = loss_fn(outputs, targets)\n",
        "            total_loss += loss.item()\n",
        "\n",
        "            loss.backward()\n",
        "\n",
        "            optimizer.step()\n",
        "\n",
        "            # we are logging current loss/perplexity in every 100 iteration\n",
        "            if it % 100 == 0:\n",
        "\n",
        "                # computing validation set perplexity in every 500 iteration\n",
        "                if it % 500 == 0:\n",
        "                    curr_perplexity = calculate_perplexity(\n",
        "                        val_data_loader, model, device\n",
        "                    )\n",
        "\n",
        "                    if scheduler is not None:\n",
        "                        scheduler.step()\n",
        "\n",
        "                    # making checkpoint of best model weights\n",
        "                    if not perplexity or curr_perplexity < perplexity:\n",
        "                        torch.save(model.state_dict(), \"../../weights/BERT/saved_model\")\n",
        "                        perplexity = curr_perplexity\n",
        "\n",
        "                print(\n",
        "                    \"| Iter\",\n",
        "                    it,\n",
        "                    \"| Avg Train Loss\",\n",
        "                    total_loss / 100,\n",
        "                    \"| Dev Perplexity\",\n",
        "                    curr_perplexity,\n",
        "                )\n",
        "                total_loss = 0\n",
        "\n",
        "            it += 1\n"
      ]
    },
    {
      "cell_type": "code",
      "execution_count": null,
      "metadata": {
        "id": "orHmh2agl6WO"
      },
      "outputs": [],
      "source": [
        "def run(model, train_df, device, train_data_loader, val_data_loader):\n",
        "    EPOCHS = 1\n",
        "\n",
        "    lr = 3e-5\n",
        "    num_training_steps = int(len(train_data_loader) * EPOCHS)\n",
        "    optimizer = AdamW(model.parameters(), lr=lr, no_deprecation_warning=True)\n",
        "    scheduler = get_linear_schedule_with_warmup(\n",
        "        optimizer, num_warmup_steps=0, num_training_steps=num_training_steps\n",
        "    )\n",
        "\n",
        "    train_loop(\n",
        "        EPOCHS, train_data_loader, val_data_loader, model, optimizer, device, scheduler\n",
        "    )"
      ]
    },
    {
      "cell_type": "code",
      "execution_count": null,
      "metadata": {
        "colab": {
          "base_uri": "https://localhost:8080/"
        },
        "id": "UoAfe0F8l9f1",
        "outputId": "50dd9463-7fa9-4532-a5dd-65277a46b472"
      },
      "outputs": [
        {
          "name": "stdout",
          "output_type": "stream",
          "text": [
            "Epoch:  1\n",
            "| Iter 100 | Avg Train Loss 0.07296604611445218 | Dev Perplexity None\n",
            "| Iter 200 | Avg Train Loss 0.012961357779568061 | Dev Perplexity None\n",
            "| Iter 300 | Avg Train Loss 0.01152106503781397 | Dev Perplexity None\n",
            "| Iter 400 | Avg Train Loss 0.007186858104541898 | Dev Perplexity None\n",
            "| Iter 500 | Avg Train Loss 0.00727346638799645 | Dev Perplexity 1.004436647255779\n",
            "| Iter 600 | Avg Train Loss 0.006204644675599411 | Dev Perplexity 1.004436647255779\n",
            "| Iter 700 | Avg Train Loss 0.007413944325671764 | Dev Perplexity 1.004436647255779\n",
            "| Iter 800 | Avg Train Loss 0.005065080904023489 | Dev Perplexity 1.004436647255779\n",
            "| Iter 900 | Avg Train Loss 0.0054050164434011096 | Dev Perplexity 1.004436647255779\n",
            "| Iter 1000 | Avg Train Loss 0.004329091270192293 | Dev Perplexity 1.003573361005335\n",
            "| Iter 1100 | Avg Train Loss 0.005329993242630735 | Dev Perplexity 1.003573361005335\n",
            "| Iter 1200 | Avg Train Loss 0.007748912575625582 | Dev Perplexity 1.003573361005335\n",
            "| Iter 1300 | Avg Train Loss 0.003854942749021575 | Dev Perplexity 1.003573361005335\n",
            "| Iter 1400 | Avg Train Loss 0.005104466444390709 | Dev Perplexity 1.003573361005335\n",
            "| Iter 1500 | Avg Train Loss 0.00496757502645778 | Dev Perplexity 1.003049997467801\n",
            "| Iter 1600 | Avg Train Loss 0.0030751233120099642 | Dev Perplexity 1.003049997467801\n",
            "| Iter 1700 | Avg Train Loss 0.0076852801982749954 | Dev Perplexity 1.003049997467801\n",
            "| Iter 1800 | Avg Train Loss 0.005510709651134676 | Dev Perplexity 1.003049997467801\n",
            "| Iter 1900 | Avg Train Loss 0.0034044154974253614 | Dev Perplexity 1.003049997467801\n",
            "| Iter 2000 | Avg Train Loss 0.002794823594085756 | Dev Perplexity 1.0031272683614694\n",
            "| Iter 2100 | Avg Train Loss 0.003618265127806808 | Dev Perplexity 1.0031272683614694\n",
            "| Iter 2200 | Avg Train Loss 0.0034522390040365282 | Dev Perplexity 1.0031272683614694\n",
            "| Iter 2300 | Avg Train Loss 0.0038658891766681336 | Dev Perplexity 1.0031272683614694\n",
            "| Iter 2400 | Avg Train Loss 0.004912072462066135 | Dev Perplexity 1.0031272683614694\n",
            "| Iter 2500 | Avg Train Loss 0.003661617510479118 | Dev Perplexity 1.003083475056639\n",
            "| Iter 2600 | Avg Train Loss 0.002290701682577492 | Dev Perplexity 1.003083475056639\n",
            "| Iter 2700 | Avg Train Loss 0.004541257873497671 | Dev Perplexity 1.003083475056639\n",
            "| Iter 2800 | Avg Train Loss 0.003204425881849602 | Dev Perplexity 1.003083475056639\n",
            "| Iter 2900 | Avg Train Loss 0.004292947666435794 | Dev Perplexity 1.003083475056639\n",
            "| Iter 3000 | Avg Train Loss 0.0043020914645603625 | Dev Perplexity 1.0029392330880003\n",
            "| Iter 3100 | Avg Train Loss 0.004827748120151227 | Dev Perplexity 1.0029392330880003\n",
            "| Iter 3200 | Avg Train Loss 0.003954289311805042 | Dev Perplexity 1.0029392330880003\n",
            "| Iter 3300 | Avg Train Loss 0.0038319568259248624 | Dev Perplexity 1.0029392330880003\n",
            "| Iter 3400 | Avg Train Loss 0.0027675623879622434 | Dev Perplexity 1.0029392330880003\n",
            "| Iter 3500 | Avg Train Loss 0.005569446845911443 | Dev Perplexity 1.0053661399126206\n"
          ]
        }
      ],
      "source": [
        "run(model, train_df, device, train_data_loader, val_data_loader)"
      ]
    },
    {
      "cell_type": "markdown",
      "metadata": {
        "id": "DOsrZwdTqO1g"
      },
      "source": [
        "# Testing"
      ]
    },
    {
      "cell_type": "code",
      "execution_count": null,
      "metadata": {
        "colab": {
          "base_uri": "https://localhost:8080/"
        },
        "id": "I86Psa5Drjco",
        "outputId": "00d2fc34-41ed-4a9b-f231-5ffc6648a91e"
      },
      "outputs": [
        {
          "name": "stderr",
          "output_type": "stream",
          "text": [
            "100%|██████████| 98/98 [01:45<00:00,  1.08s/it]\n"
          ]
        },
        {
          "data": {
            "text/plain": [
              "2"
            ]
          },
          "execution_count": 32,
          "metadata": {},
          "output_type": "execute_result"
        }
      ],
      "source": [
        "# this function returns probabilities for every test case\n",
        "\n",
        "def test(model, test_df, device):\n",
        "    predictions = torch.empty(0).to(device, dtype=torch.float)\n",
        "    real = torch.empty(0).to(device, dtype=torch.long)\n",
        "\n",
        "    test_dataset = BertDataSet(\n",
        "        first_names=test_df[\"name_1\"].values,\n",
        "        second_names=test_df[\"name_2\"].values,\n",
        "        targets=test_df[\"is_duplicate\"].values,\n",
        "        tokenizer=tokenizer,\n",
        "    )\n",
        "\n",
        "    test_data_loader = torch.utils.data.DataLoader(test_dataset, batch_size=512)\n",
        "\n",
        "    with torch.no_grad():\n",
        "        model.eval()\n",
        "        for batch in tqdm(test_data_loader):\n",
        "            ids = batch[\"ids\"]\n",
        "            mask = batch[\"mask\"]\n",
        "            token_type_ids = batch[\"token_type_ids\"]\n",
        "            targets = batch[\"targets\"]\n",
        "\n",
        "            ids = ids.to(device, dtype=torch.long)\n",
        "            mask = mask.to(device, dtype=torch.long)\n",
        "            token_type_ids = token_type_ids.to(device, dtype=torch.long)\n",
        "\n",
        "            outputs = model(ids=ids, mask=mask, token_type_ids=token_type_ids)\n",
        "            predictions = torch.cat((predictions, nn.Sigmoid()(outputs)))\n",
        "            real = torch.cat((real, targets.to(device)))\n",
        "\n",
        "    return predictions.cpu().numpy().squeeze(), real.cpu().numpy().squeeze()\n",
        "\n",
        "\n",
        "predictions = test(model, val_df, device)\n",
        "len(predictions)"
      ]
    },
    {
      "cell_type": "code",
      "execution_count": null,
      "metadata": {
        "id": "XDC2ULwIlDUE"
      },
      "outputs": [],
      "source": [
        "probas, real = predictions"
      ]
    },
    {
      "cell_type": "markdown",
      "metadata": {
        "id": "tW7QLwD75iL2"
      },
      "source": [
        "Quality of education"
      ]
    },
    {
      "cell_type": "code",
      "execution_count": null,
      "metadata": {
        "colab": {
          "base_uri": "https://localhost:8080/"
        },
        "id": "f7rcMS8bk5I4",
        "outputId": "73fd3a20-8da5-4a99-cbf9-21d9e05f766b"
      },
      "outputs": [
        {
          "name": "stdout",
          "output_type": "stream",
          "text": [
            "AUC score: 0.997\n"
          ]
        }
      ],
      "source": [
        "auc = roc_auc_score(y_true=real, y_score=probas)\n",
        "print(f\"AUC score: {auc:0.3f}\")"
      ]
    },
    {
      "cell_type": "code",
      "execution_count": null,
      "metadata": {
        "colab": {
          "base_uri": "https://localhost:8080/",
          "height": 350
        },
        "id": "TD-uH4Nak3M2",
        "outputId": "37a49efb-f75e-48dd-b0e9-18f9b316481a"
      },
      "outputs": [
        {
          "data": {
            "image/png": "[encoded data removed]",
            "text/plain": [
              "<Figure size 1080x360 with 2 Axes>"
            ]
          },
          "metadata": {
            "needs_background": "light"
          },
          "output_type": "display_data"
        }
      ],
      "source": [
        "fig, (ax1, ax2) = plt.subplots(ncols=2, figsize=(15, 5))\n",
        "\n",
        "precision, recall, threshold = precision_recall_curve(y_true=real, probas_pred=probas)\n",
        "fpr, tpr, threshold = roc_curve(y_true=real, y_score=probas)\n",
        "\n",
        "ax1.plot(fpr, tpr, marker=\".\", color=\"k\")\n",
        "\n",
        "ax1.set_title(\"ROC curve\")\n",
        "ax1.set_ylabel(\"True Positive Rate\")\n",
        "ax1.set_xlabel(\"False Positive Rate\")\n",
        "\n",
        "ax2.plot(recall, precision, color=\"b\")\n",
        "\n",
        "ax2.set_title(\"Precision-Recall Curve\")\n",
        "ax2.set_ylabel(\"Precision\")\n",
        "ax2.set_xlabel(\"Recall\")\n",
        "plt.show()"
      ]
    },
    {
      "cell_type": "code",
      "execution_count": null,
      "metadata": {
        "id": "A8Iilmumr6ly"
      },
      "outputs": [],
      "source": [
        "# write down answers in is_duplicate column\n",
        "\n",
        "val_df[\"is_duplicate\"] = probas"
      ]
    },
    {
      "cell_type": "markdown",
      "metadata": {
        "id": "KwQH1LNPsFc3"
      },
      "source": [
        "# Evaluation"
      ]
    },
    {
      "cell_type": "code",
      "execution_count": null,
      "metadata": {
        "id": "saXQ5O9XsBW1"
      },
      "outputs": [],
      "source": [
        "# prints if two names is similar and score of confidence\n",
        "\n",
        "def eval(model, tokenizer, first_names, second_names, device):\n",
        "    inputs = tokenizer.encode_plus(\n",
        "        first_names,\n",
        "        second_names,\n",
        "        add_special_tokens=True,\n",
        "    )\n",
        "\n",
        "    ids = torch.tensor([inputs[\"input_ids\"]], dtype=torch.long).to(\n",
        "        device, dtype=torch.long\n",
        "    )\n",
        "    mask = torch.tensor([inputs[\"attention_mask\"]], dtype=torch.long).to(\n",
        "        device, dtype=torch.long\n",
        "    )\n",
        "    token_type_ids = torch.tensor([inputs[\"token_type_ids\"]], dtype=torch.long).to(\n",
        "        device, dtype=torch.long\n",
        "    )\n",
        "\n",
        "    with torch.no_grad():\n",
        "        model.eval()\n",
        "        output = model(ids=ids, mask=mask, token_type_ids=token_type_ids)\n",
        "        prob = nn.Sigmoid()(output).item()\n",
        "\n",
        "        print(\n",
        "            \"Company names [{}] and [{}] are {} with score {}\".format(\n",
        "                first_names,\n",
        "                second_names,\n",
        "                \"similar\" if prob > 0.5 else \"not similar\",\n",
        "                prob,\n",
        "            )\n",
        "        )"
      ]
    },
    {
      "cell_type": "code",
      "execution_count": null,
      "metadata": {
        "colab": {
          "base_uri": "https://localhost:8080/"
        },
        "id": "Yy4H4YHftraS",
        "outputId": "6daf721c-2592-4138-b9d7-ab2f76a6d494"
      },
      "outputs": [
        {
          "name": "stdout",
          "output_type": "stream",
          "text": [
            "Company names [Dow Chemical International Private Ltd.] and [Dow Chemical Pacific\t] are similar with score 0.9906879663467407\n"
          ]
        }
      ],
      "source": [
        "# change names to test model\n",
        "\n",
        "first_name = \"Dow Chemical International Private Ltd.\"\n",
        "second_name = \"Dow Chemical Pacific\"\n",
        "\n",
        "eval(model, tokenizer, first_name, second_name, device)"
      ]
    }
  ],
  "metadata": {
    "accelerator": "GPU",
    "colab": {
      "collapsed_sections": [],
      "provenance": []
    },
    "kernelspec": {
      "display_name": "Python 3.10.8 64-bit (microsoft store)",
      "language": "python",
      "name": "python3"
    },
    "language_info": {
      "codemirror_mode": {
        "name": "ipython",
        "version": 3
      },
      "file_extension": ".py",
      "mimetype": "text/x-python",
      "name": "python",
      "nbconvert_exporter": "python",
      "pygments_lexer": "ipython3",
      "version": "3.10.8"
    },
    "vscode": {
      "interpreter": {
        "hash": "04a2fd1d865969964f597cc069d7d540508e869d83f54a868dd068f95ed31db8"
      }
    },
    "widgets": {
      "application/vnd.jupyter.widget-state+json": {
        "07e948da3d1244af94a48b53f6577a64": {
          "model_module": "@jupyter-widgets/controls",
          "model_module_version": "1.5.0",
          "model_name": "FloatProgressModel",
          "state": {
            "_dom_classes": [],
            "_model_module": "@jupyter-widgets/controls",
            "_model_module_version": "1.5.0",
            "_model_name": "FloatProgressModel",
            "_view_count": null,
            "_view_module": "@jupyter-widgets/controls",
            "_view_module_version": "1.5.0",
            "_view_name": "ProgressView",
            "bar_style": "success",
            "description": "",
            "description_tooltip": null,
            "layout": "IPY_MODEL_14b21f690d6a4ed3b2c18bc01474283b",
            "max": 28,
            "min": 0,
            "orientation": "horizontal",
            "style": "IPY_MODEL_5b352286626c4251aebd1d7b70dd3638",
            "value": 28
          }
        },
        "14b21f690d6a4ed3b2c18bc01474283b": {
          "model_module": "@jupyter-widgets/base",
          "model_module_version": "1.2.0",
          "model_name": "LayoutModel",
          "state": {
            "_model_module": "@jupyter-widgets/base",
            "_model_module_version": "1.2.0",
            "_model_name": "LayoutModel",
            "_view_count": null,
            "_view_module": "@jupyter-widgets/base",
            "_view_module_version": "1.2.0",
            "_view_name": "LayoutView",
            "align_content": null,
            "align_items": null,
            "align_self": null,
            "border": null,
            "bottom": null,
            "display": null,
            "flex": null,
            "flex_flow": null,
            "grid_area": null,
            "grid_auto_columns": null,
            "grid_auto_flow": null,
            "grid_auto_rows": null,
            "grid_column": null,
            "grid_gap": null,
            "grid_row": null,
            "grid_template_areas": null,
            "grid_template_columns": null,
            "grid_template_rows": null,
            "height": null,
            "justify_content": null,
            "justify_items": null,
            "left": null,
            "margin": null,
            "max_height": null,
            "max_width": null,
            "min_height": null,
            "min_width": null,
            "object_fit": null,
            "object_position": null,
            "order": null,
            "overflow": null,
            "overflow_x": null,
            "overflow_y": null,
            "padding": null,
            "right": null,
            "top": null,
            "visibility": null,
            "width": null
          }
        },
        "186a26a48ffd414ab4493a4cae215a85": {
          "model_module": "@jupyter-widgets/base",
          "model_module_version": "1.2.0",
          "model_name": "LayoutModel",
          "state": {
            "_model_module": "@jupyter-widgets/base",
            "_model_module_version": "1.2.0",
            "_model_name": "LayoutModel",
            "_view_count": null,
            "_view_module": "@jupyter-widgets/base",
            "_view_module_version": "1.2.0",
            "_view_name": "LayoutView",
            "align_content": null,
            "align_items": null,
            "align_self": null,
            "border": null,
            "bottom": null,
            "display": null,
            "flex": null,
            "flex_flow": null,
            "grid_area": null,
            "grid_auto_columns": null,
            "grid_auto_flow": null,
            "grid_auto_rows": null,
            "grid_column": null,
            "grid_gap": null,
            "grid_row": null,
            "grid_template_areas": null,
            "grid_template_columns": null,
            "grid_template_rows": null,
            "height": null,
            "justify_content": null,
            "justify_items": null,
            "left": null,
            "margin": null,
            "max_height": null,
            "max_width": null,
            "min_height": null,
            "min_width": null,
            "object_fit": null,
            "object_position": null,
            "order": null,
            "overflow": null,
            "overflow_x": null,
            "overflow_y": null,
            "padding": null,
            "right": null,
            "top": null,
            "visibility": null,
            "width": null
          }
        },
        "2274666137404e2fb61f56e67c08d250": {
          "model_module": "@jupyter-widgets/base",
          "model_module_version": "1.2.0",
          "model_name": "LayoutModel",
          "state": {
            "_model_module": "@jupyter-widgets/base",
            "_model_module_version": "1.2.0",
            "_model_name": "LayoutModel",
            "_view_count": null,
            "_view_module": "@jupyter-widgets/base",
            "_view_module_version": "1.2.0",
            "_view_name": "LayoutView",
            "align_content": null,
            "align_items": null,
            "align_self": null,
            "border": null,
            "bottom": null,
            "display": null,
            "flex": null,
            "flex_flow": null,
            "grid_area": null,
            "grid_auto_columns": null,
            "grid_auto_flow": null,
            "grid_auto_rows": null,
            "grid_column": null,
            "grid_gap": null,
            "grid_row": null,
            "grid_template_areas": null,
            "grid_template_columns": null,
            "grid_template_rows": null,
            "height": null,
            "justify_content": null,
            "justify_items": null,
            "left": null,
            "margin": null,
            "max_height": null,
            "max_width": null,
            "min_height": null,
            "min_width": null,
            "object_fit": null,
            "object_position": null,
            "order": null,
            "overflow": null,
            "overflow_x": null,
            "overflow_y": null,
            "padding": null,
            "right": null,
            "top": null,
            "visibility": null,
            "width": null
          }
        },
        "2551ee37d35c4de8a90136e71188de53": {
          "model_module": "@jupyter-widgets/controls",
          "model_module_version": "1.5.0",
          "model_name": "DescriptionStyleModel",
          "state": {
            "_model_module": "@jupyter-widgets/controls",
            "_model_module_version": "1.5.0",
            "_model_name": "DescriptionStyleModel",
            "_view_count": null,
            "_view_module": "@jupyter-widgets/base",
            "_view_module_version": "1.2.0",
            "_view_name": "StyleView",
            "description_width": ""
          }
        },
        "2c6fb038f25f434a98522116fcc13ab2": {
          "model_module": "@jupyter-widgets/base",
          "model_module_version": "1.2.0",
          "model_name": "LayoutModel",
          "state": {
            "_model_module": "@jupyter-widgets/base",
            "_model_module_version": "1.2.0",
            "_model_name": "LayoutModel",
            "_view_count": null,
            "_view_module": "@jupyter-widgets/base",
            "_view_module_version": "1.2.0",
            "_view_name": "LayoutView",
            "align_content": null,
            "align_items": null,
            "align_self": null,
            "border": null,
            "bottom": null,
            "display": null,
            "flex": null,
            "flex_flow": null,
            "grid_area": null,
            "grid_auto_columns": null,
            "grid_auto_flow": null,
            "grid_auto_rows": null,
            "grid_column": null,
            "grid_gap": null,
            "grid_row": null,
            "grid_template_areas": null,
            "grid_template_columns": null,
            "grid_template_rows": null,
            "height": null,
            "justify_content": null,
            "justify_items": null,
            "left": null,
            "margin": null,
            "max_height": null,
            "max_width": null,
            "min_height": null,
            "min_width": null,
            "object_fit": null,
            "object_position": null,
            "order": null,
            "overflow": null,
            "overflow_x": null,
            "overflow_y": null,
            "padding": null,
            "right": null,
            "top": null,
            "visibility": null,
            "width": null
          }
        },
        "351a4fcc573e4fea9770b5bd0e2f2ae9": {
          "model_module": "@jupyter-widgets/base",
          "model_module_version": "1.2.0",
          "model_name": "LayoutModel",
          "state": {
            "_model_module": "@jupyter-widgets/base",
            "_model_module_version": "1.2.0",
            "_model_name": "LayoutModel",
            "_view_count": null,
            "_view_module": "@jupyter-widgets/base",
            "_view_module_version": "1.2.0",
            "_view_name": "LayoutView",
            "align_content": null,
            "align_items": null,
            "align_self": null,
            "border": null,
            "bottom": null,
            "display": null,
            "flex": null,
            "flex_flow": null,
            "grid_area": null,
            "grid_auto_columns": null,
            "grid_auto_flow": null,
            "grid_auto_rows": null,
            "grid_column": null,
            "grid_gap": null,
            "grid_row": null,
            "grid_template_areas": null,
            "grid_template_columns": null,
            "grid_template_rows": null,
            "height": null,
            "justify_content": null,
            "justify_items": null,
            "left": null,
            "margin": null,
            "max_height": null,
            "max_width": null,
            "min_height": null,
            "min_width": null,
            "object_fit": null,
            "object_position": null,
            "order": null,
            "overflow": null,
            "overflow_x": null,
            "overflow_y": null,
            "padding": null,
            "right": null,
            "top": null,
            "visibility": null,
            "width": null
          }
        },
        "3551f49892dd47db847b7348894747b6": {
          "model_module": "@jupyter-widgets/base",
          "model_module_version": "1.2.0",
          "model_name": "LayoutModel",
          "state": {
            "_model_module": "@jupyter-widgets/base",
            "_model_module_version": "1.2.0",
            "_model_name": "LayoutModel",
            "_view_count": null,
            "_view_module": "@jupyter-widgets/base",
            "_view_module_version": "1.2.0",
            "_view_name": "LayoutView",
            "align_content": null,
            "align_items": null,
            "align_self": null,
            "border": null,
            "bottom": null,
            "display": null,
            "flex": null,
            "flex_flow": null,
            "grid_area": null,
            "grid_auto_columns": null,
            "grid_auto_flow": null,
            "grid_auto_rows": null,
            "grid_column": null,
            "grid_gap": null,
            "grid_row": null,
            "grid_template_areas": null,
            "grid_template_columns": null,
            "grid_template_rows": null,
            "height": null,
            "justify_content": null,
            "justify_items": null,
            "left": null,
            "margin": null,
            "max_height": null,
            "max_width": null,
            "min_height": null,
            "min_width": null,
            "object_fit": null,
            "object_position": null,
            "order": null,
            "overflow": null,
            "overflow_x": null,
            "overflow_y": null,
            "padding": null,
            "right": null,
            "top": null,
            "visibility": null,
            "width": null
          }
        },
        "363f509e976249fcb0b6b234fa1877f7": {
          "model_module": "@jupyter-widgets/controls",
          "model_module_version": "1.5.0",
          "model_name": "FloatProgressModel",
          "state": {
            "_dom_classes": [],
            "_model_module": "@jupyter-widgets/controls",
            "_model_module_version": "1.5.0",
            "_model_name": "FloatProgressModel",
            "_view_count": null,
            "_view_module": "@jupyter-widgets/controls",
            "_view_module_version": "1.5.0",
            "_view_name": "ProgressView",
            "bar_style": "success",
            "description": "",
            "description_tooltip": null,
            "layout": "IPY_MODEL_2c6fb038f25f434a98522116fcc13ab2",
            "max": 440473133,
            "min": 0,
            "orientation": "horizontal",
            "style": "IPY_MODEL_c33f77049824440ba86c7568fb22a071",
            "value": 440473133
          }
        },
        "3cf75982c8604972a417cf516b0c1e6e": {
          "model_module": "@jupyter-widgets/controls",
          "model_module_version": "1.5.0",
          "model_name": "HTMLModel",
          "state": {
            "_dom_classes": [],
            "_model_module": "@jupyter-widgets/controls",
            "_model_module_version": "1.5.0",
            "_model_name": "HTMLModel",
            "_view_count": null,
            "_view_module": "@jupyter-widgets/controls",
            "_view_module_version": "1.5.0",
            "_view_name": "HTMLView",
            "description": "",
            "description_tooltip": null,
            "layout": "IPY_MODEL_b7dcc8ffb2864aeaae1ebdeee967c0f5",
            "placeholder": "​",
            "style": "IPY_MODEL_e882cfd5fd0842b494a666823731977e",
            "value": "Downloading: 100%"
          }
        },
        "443ac73bd66a4023985b81da8aaf03ed": {
          "model_module": "@jupyter-widgets/base",
          "model_module_version": "1.2.0",
          "model_name": "LayoutModel",
          "state": {
            "_model_module": "@jupyter-widgets/base",
            "_model_module_version": "1.2.0",
            "_model_name": "LayoutModel",
            "_view_count": null,
            "_view_module": "@jupyter-widgets/base",
            "_view_module_version": "1.2.0",
            "_view_name": "LayoutView",
            "align_content": null,
            "align_items": null,
            "align_self": null,
            "border": null,
            "bottom": null,
            "display": null,
            "flex": null,
            "flex_flow": null,
            "grid_area": null,
            "grid_auto_columns": null,
            "grid_auto_flow": null,
            "grid_auto_rows": null,
            "grid_column": null,
            "grid_gap": null,
            "grid_row": null,
            "grid_template_areas": null,
            "grid_template_columns": null,
            "grid_template_rows": null,
            "height": null,
            "justify_content": null,
            "justify_items": null,
            "left": null,
            "margin": null,
            "max_height": null,
            "max_width": null,
            "min_height": null,
            "min_width": null,
            "object_fit": null,
            "object_position": null,
            "order": null,
            "overflow": null,
            "overflow_x": null,
            "overflow_y": null,
            "padding": null,
            "right": null,
            "top": null,
            "visibility": null,
            "width": null
          }
        },
        "472d71f2df6e4f7d826ac86607a8ddc3": {
          "model_module": "@jupyter-widgets/base",
          "model_module_version": "1.2.0",
          "model_name": "LayoutModel",
          "state": {
            "_model_module": "@jupyter-widgets/base",
            "_model_module_version": "1.2.0",
            "_model_name": "LayoutModel",
            "_view_count": null,
            "_view_module": "@jupyter-widgets/base",
            "_view_module_version": "1.2.0",
            "_view_name": "LayoutView",
            "align_content": null,
            "align_items": null,
            "align_self": null,
            "border": null,
            "bottom": null,
            "display": null,
            "flex": null,
            "flex_flow": null,
            "grid_area": null,
            "grid_auto_columns": null,
            "grid_auto_flow": null,
            "grid_auto_rows": null,
            "grid_column": null,
            "grid_gap": null,
            "grid_row": null,
            "grid_template_areas": null,
            "grid_template_columns": null,
            "grid_template_rows": null,
            "height": null,
            "justify_content": null,
            "justify_items": null,
            "left": null,
            "margin": null,
            "max_height": null,
            "max_width": null,
            "min_height": null,
            "min_width": null,
            "object_fit": null,
            "object_position": null,
            "order": null,
            "overflow": null,
            "overflow_x": null,
            "overflow_y": null,
            "padding": null,
            "right": null,
            "top": null,
            "visibility": null,
            "width": null
          }
        },
        "4871a9f252e0499c99a0b5288ac3db0b": {
          "model_module": "@jupyter-widgets/controls",
          "model_module_version": "1.5.0",
          "model_name": "HBoxModel",
          "state": {
            "_dom_classes": [],
            "_model_module": "@jupyter-widgets/controls",
            "_model_module_version": "1.5.0",
            "_model_name": "HBoxModel",
            "_view_count": null,
            "_view_module": "@jupyter-widgets/controls",
            "_view_module_version": "1.5.0",
            "_view_name": "HBoxView",
            "box_style": "",
            "children": [
              "IPY_MODEL_79fa00419c03403aa782b487d0ccc8d8",
              "IPY_MODEL_07e948da3d1244af94a48b53f6577a64",
              "IPY_MODEL_fe8dd4985a2942f5977da888362f52ae"
            ],
            "layout": "IPY_MODEL_aa1537e6202f430db89a58ba8276e12f"
          }
        },
        "5309a5908b48496fbe73c35c0e6f4aa0": {
          "model_module": "@jupyter-widgets/controls",
          "model_module_version": "1.5.0",
          "model_name": "HBoxModel",
          "state": {
            "_dom_classes": [],
            "_model_module": "@jupyter-widgets/controls",
            "_model_module_version": "1.5.0",
            "_model_name": "HBoxModel",
            "_view_count": null,
            "_view_module": "@jupyter-widgets/controls",
            "_view_module_version": "1.5.0",
            "_view_name": "HBoxView",
            "box_style": "",
            "children": [
              "IPY_MODEL_b5f039f972e64e93939636651007bdab",
              "IPY_MODEL_b7fd11aa965045a9bc7ce23271626165",
              "IPY_MODEL_8d8d5d1b7516457db2740f8ae089eb08"
            ],
            "layout": "IPY_MODEL_3551f49892dd47db847b7348894747b6"
          }
        },
        "5abd491d1bf046c29aeb4fb1667eec7c": {
          "model_module": "@jupyter-widgets/controls",
          "model_module_version": "1.5.0",
          "model_name": "FloatProgressModel",
          "state": {
            "_dom_classes": [],
            "_model_module": "@jupyter-widgets/controls",
            "_model_module_version": "1.5.0",
            "_model_name": "FloatProgressModel",
            "_view_count": null,
            "_view_module": "@jupyter-widgets/controls",
            "_view_module_version": "1.5.0",
            "_view_name": "ProgressView",
            "bar_style": "success",
            "description": "",
            "description_tooltip": null,
            "layout": "IPY_MODEL_2274666137404e2fb61f56e67c08d250",
            "max": 231508,
            "min": 0,
            "orientation": "horizontal",
            "style": "IPY_MODEL_7029193f8aa74f45a8aa14bc79614455",
            "value": 231508
          }
        },
        "5b352286626c4251aebd1d7b70dd3638": {
          "model_module": "@jupyter-widgets/controls",
          "model_module_version": "1.5.0",
          "model_name": "ProgressStyleModel",
          "state": {
            "_model_module": "@jupyter-widgets/controls",
            "_model_module_version": "1.5.0",
            "_model_name": "ProgressStyleModel",
            "_view_count": null,
            "_view_module": "@jupyter-widgets/base",
            "_view_module_version": "1.2.0",
            "_view_name": "StyleView",
            "bar_color": null,
            "description_width": ""
          }
        },
        "5bb96b4aad83458688e3e676df6821a5": {
          "model_module": "@jupyter-widgets/base",
          "model_module_version": "1.2.0",
          "model_name": "LayoutModel",
          "state": {
            "_model_module": "@jupyter-widgets/base",
            "_model_module_version": "1.2.0",
            "_model_name": "LayoutModel",
            "_view_count": null,
            "_view_module": "@jupyter-widgets/base",
            "_view_module_version": "1.2.0",
            "_view_name": "LayoutView",
            "align_content": null,
            "align_items": null,
            "align_self": null,
            "border": null,
            "bottom": null,
            "display": null,
            "flex": null,
            "flex_flow": null,
            "grid_area": null,
            "grid_auto_columns": null,
            "grid_auto_flow": null,
            "grid_auto_rows": null,
            "grid_column": null,
            "grid_gap": null,
            "grid_row": null,
            "grid_template_areas": null,
            "grid_template_columns": null,
            "grid_template_rows": null,
            "height": null,
            "justify_content": null,
            "justify_items": null,
            "left": null,
            "margin": null,
            "max_height": null,
            "max_width": null,
            "min_height": null,
            "min_width": null,
            "object_fit": null,
            "object_position": null,
            "order": null,
            "overflow": null,
            "overflow_x": null,
            "overflow_y": null,
            "padding": null,
            "right": null,
            "top": null,
            "visibility": null,
            "width": null
          }
        },
        "606f9c7e86204858b3e4188c1250869d": {
          "model_module": "@jupyter-widgets/controls",
          "model_module_version": "1.5.0",
          "model_name": "DescriptionStyleModel",
          "state": {
            "_model_module": "@jupyter-widgets/controls",
            "_model_module_version": "1.5.0",
            "_model_name": "DescriptionStyleModel",
            "_view_count": null,
            "_view_module": "@jupyter-widgets/base",
            "_view_module_version": "1.2.0",
            "_view_name": "StyleView",
            "description_width": ""
          }
        },
        "67a73baf1e674a77bb4e5ee0980763c5": {
          "model_module": "@jupyter-widgets/base",
          "model_module_version": "1.2.0",
          "model_name": "LayoutModel",
          "state": {
            "_model_module": "@jupyter-widgets/base",
            "_model_module_version": "1.2.0",
            "_model_name": "LayoutModel",
            "_view_count": null,
            "_view_module": "@jupyter-widgets/base",
            "_view_module_version": "1.2.0",
            "_view_name": "LayoutView",
            "align_content": null,
            "align_items": null,
            "align_self": null,
            "border": null,
            "bottom": null,
            "display": null,
            "flex": null,
            "flex_flow": null,
            "grid_area": null,
            "grid_auto_columns": null,
            "grid_auto_flow": null,
            "grid_auto_rows": null,
            "grid_column": null,
            "grid_gap": null,
            "grid_row": null,
            "grid_template_areas": null,
            "grid_template_columns": null,
            "grid_template_rows": null,
            "height": null,
            "justify_content": null,
            "justify_items": null,
            "left": null,
            "margin": null,
            "max_height": null,
            "max_width": null,
            "min_height": null,
            "min_width": null,
            "object_fit": null,
            "object_position": null,
            "order": null,
            "overflow": null,
            "overflow_x": null,
            "overflow_y": null,
            "padding": null,
            "right": null,
            "top": null,
            "visibility": null,
            "width": null
          }
        },
        "6e9f1204578644bba0ffe7d2b68b3f02": {
          "model_module": "@jupyter-widgets/base",
          "model_module_version": "1.2.0",
          "model_name": "LayoutModel",
          "state": {
            "_model_module": "@jupyter-widgets/base",
            "_model_module_version": "1.2.0",
            "_model_name": "LayoutModel",
            "_view_count": null,
            "_view_module": "@jupyter-widgets/base",
            "_view_module_version": "1.2.0",
            "_view_name": "LayoutView",
            "align_content": null,
            "align_items": null,
            "align_self": null,
            "border": null,
            "bottom": null,
            "display": null,
            "flex": null,
            "flex_flow": null,
            "grid_area": null,
            "grid_auto_columns": null,
            "grid_auto_flow": null,
            "grid_auto_rows": null,
            "grid_column": null,
            "grid_gap": null,
            "grid_row": null,
            "grid_template_areas": null,
            "grid_template_columns": null,
            "grid_template_rows": null,
            "height": null,
            "justify_content": null,
            "justify_items": null,
            "left": null,
            "margin": null,
            "max_height": null,
            "max_width": null,
            "min_height": null,
            "min_width": null,
            "object_fit": null,
            "object_position": null,
            "order": null,
            "overflow": null,
            "overflow_x": null,
            "overflow_y": null,
            "padding": null,
            "right": null,
            "top": null,
            "visibility": null,
            "width": null
          }
        },
        "7029193f8aa74f45a8aa14bc79614455": {
          "model_module": "@jupyter-widgets/controls",
          "model_module_version": "1.5.0",
          "model_name": "ProgressStyleModel",
          "state": {
            "_model_module": "@jupyter-widgets/controls",
            "_model_module_version": "1.5.0",
            "_model_name": "ProgressStyleModel",
            "_view_count": null,
            "_view_module": "@jupyter-widgets/base",
            "_view_module_version": "1.2.0",
            "_view_name": "StyleView",
            "bar_color": null,
            "description_width": ""
          }
        },
        "716f0bfc837e48329c679efc8b8f37fd": {
          "model_module": "@jupyter-widgets/controls",
          "model_module_version": "1.5.0",
          "model_name": "HTMLModel",
          "state": {
            "_dom_classes": [],
            "_model_module": "@jupyter-widgets/controls",
            "_model_module_version": "1.5.0",
            "_model_name": "HTMLModel",
            "_view_count": null,
            "_view_module": "@jupyter-widgets/controls",
            "_view_module_version": "1.5.0",
            "_view_name": "HTMLView",
            "description": "",
            "description_tooltip": null,
            "layout": "IPY_MODEL_351a4fcc573e4fea9770b5bd0e2f2ae9",
            "placeholder": "​",
            "style": "IPY_MODEL_9670329a6d144b30917c1d4b27708c4f",
            "value": " 232k/232k [00:00&lt;00:00, 519kB/s]"
          }
        },
        "79fa00419c03403aa782b487d0ccc8d8": {
          "model_module": "@jupyter-widgets/controls",
          "model_module_version": "1.5.0",
          "model_name": "HTMLModel",
          "state": {
            "_dom_classes": [],
            "_model_module": "@jupyter-widgets/controls",
            "_model_module_version": "1.5.0",
            "_model_name": "HTMLModel",
            "_view_count": null,
            "_view_module": "@jupyter-widgets/controls",
            "_view_module_version": "1.5.0",
            "_view_name": "HTMLView",
            "description": "",
            "description_tooltip": null,
            "layout": "IPY_MODEL_443ac73bd66a4023985b81da8aaf03ed",
            "placeholder": "​",
            "style": "IPY_MODEL_606f9c7e86204858b3e4188c1250869d",
            "value": "Downloading: 100%"
          }
        },
        "7c2248c407bd4f4f93da1df87218e5e3": {
          "model_module": "@jupyter-widgets/controls",
          "model_module_version": "1.5.0",
          "model_name": "HBoxModel",
          "state": {
            "_dom_classes": [],
            "_model_module": "@jupyter-widgets/controls",
            "_model_module_version": "1.5.0",
            "_model_name": "HBoxModel",
            "_view_count": null,
            "_view_module": "@jupyter-widgets/controls",
            "_view_module_version": "1.5.0",
            "_view_name": "HBoxView",
            "box_style": "",
            "children": [
              "IPY_MODEL_d5144a3d6bfa49988463f79a27fb7d2f",
              "IPY_MODEL_5abd491d1bf046c29aeb4fb1667eec7c",
              "IPY_MODEL_716f0bfc837e48329c679efc8b8f37fd"
            ],
            "layout": "IPY_MODEL_7dceaca462f3453ba8b045ddafca84cb"
          }
        },
        "7dceaca462f3453ba8b045ddafca84cb": {
          "model_module": "@jupyter-widgets/base",
          "model_module_version": "1.2.0",
          "model_name": "LayoutModel",
          "state": {
            "_model_module": "@jupyter-widgets/base",
            "_model_module_version": "1.2.0",
            "_model_name": "LayoutModel",
            "_view_count": null,
            "_view_module": "@jupyter-widgets/base",
            "_view_module_version": "1.2.0",
            "_view_name": "LayoutView",
            "align_content": null,
            "align_items": null,
            "align_self": null,
            "border": null,
            "bottom": null,
            "display": null,
            "flex": null,
            "flex_flow": null,
            "grid_area": null,
            "grid_auto_columns": null,
            "grid_auto_flow": null,
            "grid_auto_rows": null,
            "grid_column": null,
            "grid_gap": null,
            "grid_row": null,
            "grid_template_areas": null,
            "grid_template_columns": null,
            "grid_template_rows": null,
            "height": null,
            "justify_content": null,
            "justify_items": null,
            "left": null,
            "margin": null,
            "max_height": null,
            "max_width": null,
            "min_height": null,
            "min_width": null,
            "object_fit": null,
            "object_position": null,
            "order": null,
            "overflow": null,
            "overflow_x": null,
            "overflow_y": null,
            "padding": null,
            "right": null,
            "top": null,
            "visibility": null,
            "width": null
          }
        },
        "8d8d5d1b7516457db2740f8ae089eb08": {
          "model_module": "@jupyter-widgets/controls",
          "model_module_version": "1.5.0",
          "model_name": "HTMLModel",
          "state": {
            "_dom_classes": [],
            "_model_module": "@jupyter-widgets/controls",
            "_model_module_version": "1.5.0",
            "_model_name": "HTMLModel",
            "_view_count": null,
            "_view_module": "@jupyter-widgets/controls",
            "_view_module_version": "1.5.0",
            "_view_name": "HTMLView",
            "description": "",
            "description_tooltip": null,
            "layout": "IPY_MODEL_472d71f2df6e4f7d826ac86607a8ddc3",
            "placeholder": "​",
            "style": "IPY_MODEL_dfcafa0f5a1343d99418236a606060af",
            "value": " 570/570 [00:00&lt;00:00, 19.2kB/s]"
          }
        },
        "9670329a6d144b30917c1d4b27708c4f": {
          "model_module": "@jupyter-widgets/controls",
          "model_module_version": "1.5.0",
          "model_name": "DescriptionStyleModel",
          "state": {
            "_model_module": "@jupyter-widgets/controls",
            "_model_module_version": "1.5.0",
            "_model_name": "DescriptionStyleModel",
            "_view_count": null,
            "_view_module": "@jupyter-widgets/base",
            "_view_module_version": "1.2.0",
            "_view_name": "StyleView",
            "description_width": ""
          }
        },
        "9c289311acaf43b79cad0bde4b295d35": {
          "model_module": "@jupyter-widgets/controls",
          "model_module_version": "1.5.0",
          "model_name": "DescriptionStyleModel",
          "state": {
            "_model_module": "@jupyter-widgets/controls",
            "_model_module_version": "1.5.0",
            "_model_name": "DescriptionStyleModel",
            "_view_count": null,
            "_view_module": "@jupyter-widgets/base",
            "_view_module_version": "1.2.0",
            "_view_name": "StyleView",
            "description_width": ""
          }
        },
        "a9c71dcd811048fbb382b8db5cf51e4c": {
          "model_module": "@jupyter-widgets/controls",
          "model_module_version": "1.5.0",
          "model_name": "ProgressStyleModel",
          "state": {
            "_model_module": "@jupyter-widgets/controls",
            "_model_module_version": "1.5.0",
            "_model_name": "ProgressStyleModel",
            "_view_count": null,
            "_view_module": "@jupyter-widgets/base",
            "_view_module_version": "1.2.0",
            "_view_name": "StyleView",
            "bar_color": null,
            "description_width": ""
          }
        },
        "aa1537e6202f430db89a58ba8276e12f": {
          "model_module": "@jupyter-widgets/base",
          "model_module_version": "1.2.0",
          "model_name": "LayoutModel",
          "state": {
            "_model_module": "@jupyter-widgets/base",
            "_model_module_version": "1.2.0",
            "_model_name": "LayoutModel",
            "_view_count": null,
            "_view_module": "@jupyter-widgets/base",
            "_view_module_version": "1.2.0",
            "_view_name": "LayoutView",
            "align_content": null,
            "align_items": null,
            "align_self": null,
            "border": null,
            "bottom": null,
            "display": null,
            "flex": null,
            "flex_flow": null,
            "grid_area": null,
            "grid_auto_columns": null,
            "grid_auto_flow": null,
            "grid_auto_rows": null,
            "grid_column": null,
            "grid_gap": null,
            "grid_row": null,
            "grid_template_areas": null,
            "grid_template_columns": null,
            "grid_template_rows": null,
            "height": null,
            "justify_content": null,
            "justify_items": null,
            "left": null,
            "margin": null,
            "max_height": null,
            "max_width": null,
            "min_height": null,
            "min_width": null,
            "object_fit": null,
            "object_position": null,
            "order": null,
            "overflow": null,
            "overflow_x": null,
            "overflow_y": null,
            "padding": null,
            "right": null,
            "top": null,
            "visibility": null,
            "width": null
          }
        },
        "ae76b3e235dd48c2840bfb0754d440ca": {
          "model_module": "@jupyter-widgets/controls",
          "model_module_version": "1.5.0",
          "model_name": "HBoxModel",
          "state": {
            "_dom_classes": [],
            "_model_module": "@jupyter-widgets/controls",
            "_model_module_version": "1.5.0",
            "_model_name": "HBoxModel",
            "_view_count": null,
            "_view_module": "@jupyter-widgets/controls",
            "_view_module_version": "1.5.0",
            "_view_name": "HBoxView",
            "box_style": "",
            "children": [
              "IPY_MODEL_3cf75982c8604972a417cf516b0c1e6e",
              "IPY_MODEL_363f509e976249fcb0b6b234fa1877f7",
              "IPY_MODEL_c40413e33d0a48a7924d31c669894d63"
            ],
            "layout": "IPY_MODEL_fb03955784f4482e8bc2b6066d317c21"
          }
        },
        "b5f039f972e64e93939636651007bdab": {
          "model_module": "@jupyter-widgets/controls",
          "model_module_version": "1.5.0",
          "model_name": "HTMLModel",
          "state": {
            "_dom_classes": [],
            "_model_module": "@jupyter-widgets/controls",
            "_model_module_version": "1.5.0",
            "_model_name": "HTMLModel",
            "_view_count": null,
            "_view_module": "@jupyter-widgets/controls",
            "_view_module_version": "1.5.0",
            "_view_name": "HTMLView",
            "description": "",
            "description_tooltip": null,
            "layout": "IPY_MODEL_186a26a48ffd414ab4493a4cae215a85",
            "placeholder": "​",
            "style": "IPY_MODEL_9c289311acaf43b79cad0bde4b295d35",
            "value": "Downloading: 100%"
          }
        },
        "b7dcc8ffb2864aeaae1ebdeee967c0f5": {
          "model_module": "@jupyter-widgets/base",
          "model_module_version": "1.2.0",
          "model_name": "LayoutModel",
          "state": {
            "_model_module": "@jupyter-widgets/base",
            "_model_module_version": "1.2.0",
            "_model_name": "LayoutModel",
            "_view_count": null,
            "_view_module": "@jupyter-widgets/base",
            "_view_module_version": "1.2.0",
            "_view_name": "LayoutView",
            "align_content": null,
            "align_items": null,
            "align_self": null,
            "border": null,
            "bottom": null,
            "display": null,
            "flex": null,
            "flex_flow": null,
            "grid_area": null,
            "grid_auto_columns": null,
            "grid_auto_flow": null,
            "grid_auto_rows": null,
            "grid_column": null,
            "grid_gap": null,
            "grid_row": null,
            "grid_template_areas": null,
            "grid_template_columns": null,
            "grid_template_rows": null,
            "height": null,
            "justify_content": null,
            "justify_items": null,
            "left": null,
            "margin": null,
            "max_height": null,
            "max_width": null,
            "min_height": null,
            "min_width": null,
            "object_fit": null,
            "object_position": null,
            "order": null,
            "overflow": null,
            "overflow_x": null,
            "overflow_y": null,
            "padding": null,
            "right": null,
            "top": null,
            "visibility": null,
            "width": null
          }
        },
        "b7fd11aa965045a9bc7ce23271626165": {
          "model_module": "@jupyter-widgets/controls",
          "model_module_version": "1.5.0",
          "model_name": "FloatProgressModel",
          "state": {
            "_dom_classes": [],
            "_model_module": "@jupyter-widgets/controls",
            "_model_module_version": "1.5.0",
            "_model_name": "FloatProgressModel",
            "_view_count": null,
            "_view_module": "@jupyter-widgets/controls",
            "_view_module_version": "1.5.0",
            "_view_name": "ProgressView",
            "bar_style": "success",
            "description": "",
            "description_tooltip": null,
            "layout": "IPY_MODEL_67a73baf1e674a77bb4e5ee0980763c5",
            "max": 570,
            "min": 0,
            "orientation": "horizontal",
            "style": "IPY_MODEL_a9c71dcd811048fbb382b8db5cf51e4c",
            "value": 570
          }
        },
        "bdb974b2dbba4724b15ade6690a5e5ed": {
          "model_module": "@jupyter-widgets/controls",
          "model_module_version": "1.5.0",
          "model_name": "DescriptionStyleModel",
          "state": {
            "_model_module": "@jupyter-widgets/controls",
            "_model_module_version": "1.5.0",
            "_model_name": "DescriptionStyleModel",
            "_view_count": null,
            "_view_module": "@jupyter-widgets/base",
            "_view_module_version": "1.2.0",
            "_view_name": "StyleView",
            "description_width": ""
          }
        },
        "c33f77049824440ba86c7568fb22a071": {
          "model_module": "@jupyter-widgets/controls",
          "model_module_version": "1.5.0",
          "model_name": "ProgressStyleModel",
          "state": {
            "_model_module": "@jupyter-widgets/controls",
            "_model_module_version": "1.5.0",
            "_model_name": "ProgressStyleModel",
            "_view_count": null,
            "_view_module": "@jupyter-widgets/base",
            "_view_module_version": "1.2.0",
            "_view_name": "StyleView",
            "bar_color": null,
            "description_width": ""
          }
        },
        "c40413e33d0a48a7924d31c669894d63": {
          "model_module": "@jupyter-widgets/controls",
          "model_module_version": "1.5.0",
          "model_name": "HTMLModel",
          "state": {
            "_dom_classes": [],
            "_model_module": "@jupyter-widgets/controls",
            "_model_module_version": "1.5.0",
            "_model_name": "HTMLModel",
            "_view_count": null,
            "_view_module": "@jupyter-widgets/controls",
            "_view_module_version": "1.5.0",
            "_view_name": "HTMLView",
            "description": "",
            "description_tooltip": null,
            "layout": "IPY_MODEL_6e9f1204578644bba0ffe7d2b68b3f02",
            "placeholder": "​",
            "style": "IPY_MODEL_bdb974b2dbba4724b15ade6690a5e5ed",
            "value": " 440M/440M [00:07&lt;00:00, 61.0MB/s]"
          }
        },
        "d5144a3d6bfa49988463f79a27fb7d2f": {
          "model_module": "@jupyter-widgets/controls",
          "model_module_version": "1.5.0",
          "model_name": "HTMLModel",
          "state": {
            "_dom_classes": [],
            "_model_module": "@jupyter-widgets/controls",
            "_model_module_version": "1.5.0",
            "_model_name": "HTMLModel",
            "_view_count": null,
            "_view_module": "@jupyter-widgets/controls",
            "_view_module_version": "1.5.0",
            "_view_name": "HTMLView",
            "description": "",
            "description_tooltip": null,
            "layout": "IPY_MODEL_ff78833f423842d5bcb0386d999d7784",
            "placeholder": "​",
            "style": "IPY_MODEL_2551ee37d35c4de8a90136e71188de53",
            "value": "Downloading: 100%"
          }
        },
        "dfcafa0f5a1343d99418236a606060af": {
          "model_module": "@jupyter-widgets/controls",
          "model_module_version": "1.5.0",
          "model_name": "DescriptionStyleModel",
          "state": {
            "_model_module": "@jupyter-widgets/controls",
            "_model_module_version": "1.5.0",
            "_model_name": "DescriptionStyleModel",
            "_view_count": null,
            "_view_module": "@jupyter-widgets/base",
            "_view_module_version": "1.2.0",
            "_view_name": "StyleView",
            "description_width": ""
          }
        },
        "e370dbd94f1c4850863aa09185d89cce": {
          "model_module": "@jupyter-widgets/controls",
          "model_module_version": "1.5.0",
          "model_name": "DescriptionStyleModel",
          "state": {
            "_model_module": "@jupyter-widgets/controls",
            "_model_module_version": "1.5.0",
            "_model_name": "DescriptionStyleModel",
            "_view_count": null,
            "_view_module": "@jupyter-widgets/base",
            "_view_module_version": "1.2.0",
            "_view_name": "StyleView",
            "description_width": ""
          }
        },
        "e882cfd5fd0842b494a666823731977e": {
          "model_module": "@jupyter-widgets/controls",
          "model_module_version": "1.5.0",
          "model_name": "DescriptionStyleModel",
          "state": {
            "_model_module": "@jupyter-widgets/controls",
            "_model_module_version": "1.5.0",
            "_model_name": "DescriptionStyleModel",
            "_view_count": null,
            "_view_module": "@jupyter-widgets/base",
            "_view_module_version": "1.2.0",
            "_view_name": "StyleView",
            "description_width": ""
          }
        },
        "fb03955784f4482e8bc2b6066d317c21": {
          "model_module": "@jupyter-widgets/base",
          "model_module_version": "1.2.0",
          "model_name": "LayoutModel",
          "state": {
            "_model_module": "@jupyter-widgets/base",
            "_model_module_version": "1.2.0",
            "_model_name": "LayoutModel",
            "_view_count": null,
            "_view_module": "@jupyter-widgets/base",
            "_view_module_version": "1.2.0",
            "_view_name": "LayoutView",
            "align_content": null,
            "align_items": null,
            "align_self": null,
            "border": null,
            "bottom": null,
            "display": null,
            "flex": null,
            "flex_flow": null,
            "grid_area": null,
            "grid_auto_columns": null,
            "grid_auto_flow": null,
            "grid_auto_rows": null,
            "grid_column": null,
            "grid_gap": null,
            "grid_row": null,
            "grid_template_areas": null,
            "grid_template_columns": null,
            "grid_template_rows": null,
            "height": null,
            "justify_content": null,
            "justify_items": null,
            "left": null,
            "margin": null,
            "max_height": null,
            "max_width": null,
            "min_height": null,
            "min_width": null,
            "object_fit": null,
            "object_position": null,
            "order": null,
            "overflow": null,
            "overflow_x": null,
            "overflow_y": null,
            "padding": null,
            "right": null,
            "top": null,
            "visibility": null,
            "width": null
          }
        },
        "fe8dd4985a2942f5977da888362f52ae": {
          "model_module": "@jupyter-widgets/controls",
          "model_module_version": "1.5.0",
          "model_name": "HTMLModel",
          "state": {
            "_dom_classes": [],
            "_model_module": "@jupyter-widgets/controls",
            "_model_module_version": "1.5.0",
            "_model_name": "HTMLModel",
            "_view_count": null,
            "_view_module": "@jupyter-widgets/controls",
            "_view_module_version": "1.5.0",
            "_view_name": "HTMLView",
            "description": "",
            "description_tooltip": null,
            "layout": "IPY_MODEL_5bb96b4aad83458688e3e676df6821a5",
            "placeholder": "​",
            "style": "IPY_MODEL_e370dbd94f1c4850863aa09185d89cce",
            "value": " 28.0/28.0 [00:00&lt;00:00, 762B/s]"
          }
        },
        "ff78833f423842d5bcb0386d999d7784": {
          "model_module": "@jupyter-widgets/base",
          "model_module_version": "1.2.0",
          "model_name": "LayoutModel",
          "state": {
            "_model_module": "@jupyter-widgets/base",
            "_model_module_version": "1.2.0",
            "_model_name": "LayoutModel",
            "_view_count": null,
            "_view_module": "@jupyter-widgets/base",
            "_view_module_version": "1.2.0",
            "_view_name": "LayoutView",
            "align_content": null,
            "align_items": null,
            "align_self": null,
            "border": null,
            "bottom": null,
            "display": null,
            "flex": null,
            "flex_flow": null,
            "grid_area": null,
            "grid_auto_columns": null,
            "grid_auto_flow": null,
            "grid_auto_rows": null,
            "grid_column": null,
            "grid_gap": null,
            "grid_row": null,
            "grid_template_areas": null,
            "grid_template_columns": null,
            "grid_template_rows": null,
            "height": null,
            "justify_content": null,
            "justify_items": null,
            "left": null,
            "margin": null,
            "max_height": null,
            "max_width": null,
            "min_height": null,
            "min_width": null,
            "object_fit": null,
            "object_position": null,
            "order": null,
            "overflow": null,
            "overflow_x": null,
            "overflow_y": null,
            "padding": null,
            "right": null,
            "top": null,
            "visibility": null,
            "width": null
          }
        }
      }
    }
  },
  "nbformat": 4,
  "nbformat_minor": 0
}